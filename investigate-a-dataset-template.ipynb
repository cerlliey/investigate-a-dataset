{
 "cells": [
  {
   "cell_type": "markdown",
   "metadata": {},
   "source": [
    "> **Tip**: Welcome to the Investigate a Dataset project! You will find tips in quoted sections like this to help organize your approach to your investigation. Before submitting your project, it will be a good idea to go back through your report and remove these sections to make the presentation of your work as tidy as possible. First things first, you might want to double-click this Markdown cell and change the title so that it reflects your dataset and investigation.\n",
    "\n",
    "# Project: Investigate a Dataset (Replace this with something more specific!)\n",
    "\n",
    "## Table of Contents\n",
    "<ul>\n",
    "<li><a href=\"#intro\">Introduction</a></li>\n",
    "<li><a href=\"#wrangling\">Data Wrangling</a></li>\n",
    "<li><a href=\"#eda\">Exploratory Data Analysis</a></li>\n",
    "<li><a href=\"#conclusions\">Conclusions</a></li>\n",
    "</ul>"
   ]
  },
  {
   "cell_type": "markdown",
   "metadata": {},
   "source": [
    "<a id='intro'></a>\n",
    "## Introduction\n",
    "\n",
    "> **Tip**: In this section of the report, provide a brief introduction to the dataset you've selected for analysis. At the end of this section, describe the questions that you plan on exploring over the course of the report. Try to build your report around the analysis of at least one dependent variable and three independent variables.\n",
    ">\n",
    "> If you haven't yet selected and downloaded your data, make sure you do that first before coming back here. If you're not sure what questions to ask right now, then make sure you familiarize yourself with the variables and the dataset context for ideas of what to explore.\n",
    "\n",
    "\n",
    "### Questions \n",
    " - 1. What kinds of properties are associated with movies that have high revenues (Focus is on adjusted revenue)\n",
    " - 2. Which genres are most popular in the last 5 years?\n",
    " "
   ]
  },
  {
   "cell_type": "code",
   "execution_count": 2,
   "metadata": {},
   "outputs": [],
   "source": [
    "# Use this cell to set up import statements for all of the packages that you\n",
    "#   plan to use.\n",
    "\n",
    "# Remember to include a 'magic word' so that your visualizations are plotted\n",
    "#   inline with the notebook. See this page for more:\n",
    "#   http://ipython.readthedocs.io/en/stable/interactive/magics.html\n",
    "\n",
    "import pandas as pd\n",
    "%matplotlib inline\n",
    "import matplotlib.pyplot as plt"
   ]
  },
  {
   "cell_type": "markdown",
   "metadata": {},
   "source": [
    "<a id='wrangling'></a>\n",
    "## Data Wrangling\n",
    "\n",
    "> **Tip**: In this section of the report, you will load in the data, check for cleanliness, and then trim and clean your dataset for analysis. Make sure that you document your steps carefully and justify your cleaning decisions.\n",
    "\n",
    "### General Properties"
   ]
  },
  {
   "cell_type": "code",
   "execution_count": 3,
   "metadata": {},
   "outputs": [],
   "source": [
    "# Load your data and print out a few lines. Perform operations to inspect data\n",
    "#   types and look for instances of missing or possibly errant data.\n",
    "\n",
    "df = pd.read_csv('tmdb-movies.csv')\n"
   ]
  },
  {
   "cell_type": "code",
   "execution_count": 4,
   "metadata": {},
   "outputs": [
    {
     "data": {
      "text/plain": [
       "(10866, 21)"
      ]
     },
     "execution_count": 4,
     "metadata": {},
     "output_type": "execute_result"
    }
   ],
   "source": [
    "df.shape"
   ]
  },
  {
   "cell_type": "code",
   "execution_count": 5,
   "metadata": {},
   "outputs": [
    {
     "data": {
      "text/plain": [
       "id                        int64\n",
       "imdb_id                  object\n",
       "popularity              float64\n",
       "budget                    int64\n",
       "revenue                   int64\n",
       "original_title           object\n",
       "cast                     object\n",
       "homepage                 object\n",
       "director                 object\n",
       "tagline                  object\n",
       "keywords                 object\n",
       "overview                 object\n",
       "runtime                   int64\n",
       "genres                   object\n",
       "production_companies     object\n",
       "release_date             object\n",
       "vote_count                int64\n",
       "vote_average            float64\n",
       "release_year              int64\n",
       "budget_adj              float64\n",
       "revenue_adj             float64\n",
       "dtype: object"
      ]
     },
     "execution_count": 5,
     "metadata": {},
     "output_type": "execute_result"
    }
   ],
   "source": [
    "df.dtypes"
   ]
  },
  {
   "cell_type": "code",
   "execution_count": 6,
   "metadata": {},
   "outputs": [
    {
     "data": {
      "text/plain": [
       "id                         0\n",
       "imdb_id                   10\n",
       "popularity                 0\n",
       "budget                     0\n",
       "revenue                    0\n",
       "original_title             0\n",
       "cast                      76\n",
       "homepage                7930\n",
       "director                  44\n",
       "tagline                 2824\n",
       "keywords                1493\n",
       "overview                   4\n",
       "runtime                    0\n",
       "genres                    23\n",
       "production_companies    1030\n",
       "release_date               0\n",
       "vote_count                 0\n",
       "vote_average               0\n",
       "release_year               0\n",
       "budget_adj                 0\n",
       "revenue_adj                0\n",
       "dtype: int64"
      ]
     },
     "execution_count": 6,
     "metadata": {},
     "output_type": "execute_result"
    }
   ],
   "source": [
    "df.isnull().sum()"
   ]
  },
  {
   "cell_type": "code",
   "execution_count": 7,
   "metadata": {},
   "outputs": [
    {
     "name": "stdout",
     "output_type": "stream",
     "text": [
      "<class 'pandas.core.frame.DataFrame'>\n",
      "RangeIndex: 10866 entries, 0 to 10865\n",
      "Data columns (total 21 columns):\n",
      " #   Column                Non-Null Count  Dtype  \n",
      "---  ------                --------------  -----  \n",
      " 0   id                    10866 non-null  int64  \n",
      " 1   imdb_id               10856 non-null  object \n",
      " 2   popularity            10866 non-null  float64\n",
      " 3   budget                10866 non-null  int64  \n",
      " 4   revenue               10866 non-null  int64  \n",
      " 5   original_title        10866 non-null  object \n",
      " 6   cast                  10790 non-null  object \n",
      " 7   homepage              2936 non-null   object \n",
      " 8   director              10822 non-null  object \n",
      " 9   tagline               8042 non-null   object \n",
      " 10  keywords              9373 non-null   object \n",
      " 11  overview              10862 non-null  object \n",
      " 12  runtime               10866 non-null  int64  \n",
      " 13  genres                10843 non-null  object \n",
      " 14  production_companies  9836 non-null   object \n",
      " 15  release_date          10866 non-null  object \n",
      " 16  vote_count            10866 non-null  int64  \n",
      " 17  vote_average          10866 non-null  float64\n",
      " 18  release_year          10866 non-null  int64  \n",
      " 19  budget_adj            10866 non-null  float64\n",
      " 20  revenue_adj           10866 non-null  float64\n",
      "dtypes: float64(4), int64(6), object(11)\n",
      "memory usage: 1.7+ MB\n"
     ]
    }
   ],
   "source": [
    "df.info()"
   ]
  },
  {
   "cell_type": "code",
   "execution_count": 8,
   "metadata": {},
   "outputs": [
    {
     "data": {
      "text/html": [
       "<div>\n",
       "<style scoped>\n",
       "    .dataframe tbody tr th:only-of-type {\n",
       "        vertical-align: middle;\n",
       "    }\n",
       "\n",
       "    .dataframe tbody tr th {\n",
       "        vertical-align: top;\n",
       "    }\n",
       "\n",
       "    .dataframe thead th {\n",
       "        text-align: right;\n",
       "    }\n",
       "</style>\n",
       "<table border=\"1\" class=\"dataframe\">\n",
       "  <thead>\n",
       "    <tr style=\"text-align: right;\">\n",
       "      <th></th>\n",
       "      <th>id</th>\n",
       "      <th>imdb_id</th>\n",
       "      <th>popularity</th>\n",
       "      <th>budget</th>\n",
       "      <th>revenue</th>\n",
       "      <th>original_title</th>\n",
       "      <th>cast</th>\n",
       "      <th>homepage</th>\n",
       "      <th>director</th>\n",
       "      <th>tagline</th>\n",
       "      <th>...</th>\n",
       "      <th>overview</th>\n",
       "      <th>runtime</th>\n",
       "      <th>genres</th>\n",
       "      <th>production_companies</th>\n",
       "      <th>release_date</th>\n",
       "      <th>vote_count</th>\n",
       "      <th>vote_average</th>\n",
       "      <th>release_year</th>\n",
       "      <th>budget_adj</th>\n",
       "      <th>revenue_adj</th>\n",
       "    </tr>\n",
       "  </thead>\n",
       "  <tbody>\n",
       "    <tr>\n",
       "      <th>0</th>\n",
       "      <td>135397</td>\n",
       "      <td>tt0369610</td>\n",
       "      <td>32.985763</td>\n",
       "      <td>150000000</td>\n",
       "      <td>1513528810</td>\n",
       "      <td>Jurassic World</td>\n",
       "      <td>Chris Pratt|Bryce Dallas Howard|Irrfan Khan|Vi...</td>\n",
       "      <td>http://www.jurassicworld.com/</td>\n",
       "      <td>Colin Trevorrow</td>\n",
       "      <td>The park is open.</td>\n",
       "      <td>...</td>\n",
       "      <td>Twenty-two years after the events of Jurassic ...</td>\n",
       "      <td>124</td>\n",
       "      <td>Action|Adventure|Science Fiction|Thriller</td>\n",
       "      <td>Universal Studios|Amblin Entertainment|Legenda...</td>\n",
       "      <td>6/9/15</td>\n",
       "      <td>5562</td>\n",
       "      <td>6.5</td>\n",
       "      <td>2015</td>\n",
       "      <td>1.379999e+08</td>\n",
       "      <td>1.392446e+09</td>\n",
       "    </tr>\n",
       "    <tr>\n",
       "      <th>1</th>\n",
       "      <td>76341</td>\n",
       "      <td>tt1392190</td>\n",
       "      <td>28.419936</td>\n",
       "      <td>150000000</td>\n",
       "      <td>378436354</td>\n",
       "      <td>Mad Max: Fury Road</td>\n",
       "      <td>Tom Hardy|Charlize Theron|Hugh Keays-Byrne|Nic...</td>\n",
       "      <td>http://www.madmaxmovie.com/</td>\n",
       "      <td>George Miller</td>\n",
       "      <td>What a Lovely Day.</td>\n",
       "      <td>...</td>\n",
       "      <td>An apocalyptic story set in the furthest reach...</td>\n",
       "      <td>120</td>\n",
       "      <td>Action|Adventure|Science Fiction|Thriller</td>\n",
       "      <td>Village Roadshow Pictures|Kennedy Miller Produ...</td>\n",
       "      <td>5/13/15</td>\n",
       "      <td>6185</td>\n",
       "      <td>7.1</td>\n",
       "      <td>2015</td>\n",
       "      <td>1.379999e+08</td>\n",
       "      <td>3.481613e+08</td>\n",
       "    </tr>\n",
       "    <tr>\n",
       "      <th>2</th>\n",
       "      <td>262500</td>\n",
       "      <td>tt2908446</td>\n",
       "      <td>13.112507</td>\n",
       "      <td>110000000</td>\n",
       "      <td>295238201</td>\n",
       "      <td>Insurgent</td>\n",
       "      <td>Shailene Woodley|Theo James|Kate Winslet|Ansel...</td>\n",
       "      <td>http://www.thedivergentseries.movie/#insurgent</td>\n",
       "      <td>Robert Schwentke</td>\n",
       "      <td>One Choice Can Destroy You</td>\n",
       "      <td>...</td>\n",
       "      <td>Beatrice Prior must confront her inner demons ...</td>\n",
       "      <td>119</td>\n",
       "      <td>Adventure|Science Fiction|Thriller</td>\n",
       "      <td>Summit Entertainment|Mandeville Films|Red Wago...</td>\n",
       "      <td>3/18/15</td>\n",
       "      <td>2480</td>\n",
       "      <td>6.3</td>\n",
       "      <td>2015</td>\n",
       "      <td>1.012000e+08</td>\n",
       "      <td>2.716190e+08</td>\n",
       "    </tr>\n",
       "    <tr>\n",
       "      <th>3</th>\n",
       "      <td>140607</td>\n",
       "      <td>tt2488496</td>\n",
       "      <td>11.173104</td>\n",
       "      <td>200000000</td>\n",
       "      <td>2068178225</td>\n",
       "      <td>Star Wars: The Force Awakens</td>\n",
       "      <td>Harrison Ford|Mark Hamill|Carrie Fisher|Adam D...</td>\n",
       "      <td>http://www.starwars.com/films/star-wars-episod...</td>\n",
       "      <td>J.J. Abrams</td>\n",
       "      <td>Every generation has a story.</td>\n",
       "      <td>...</td>\n",
       "      <td>Thirty years after defeating the Galactic Empi...</td>\n",
       "      <td>136</td>\n",
       "      <td>Action|Adventure|Science Fiction|Fantasy</td>\n",
       "      <td>Lucasfilm|Truenorth Productions|Bad Robot</td>\n",
       "      <td>12/15/15</td>\n",
       "      <td>5292</td>\n",
       "      <td>7.5</td>\n",
       "      <td>2015</td>\n",
       "      <td>1.839999e+08</td>\n",
       "      <td>1.902723e+09</td>\n",
       "    </tr>\n",
       "    <tr>\n",
       "      <th>4</th>\n",
       "      <td>168259</td>\n",
       "      <td>tt2820852</td>\n",
       "      <td>9.335014</td>\n",
       "      <td>190000000</td>\n",
       "      <td>1506249360</td>\n",
       "      <td>Furious 7</td>\n",
       "      <td>Vin Diesel|Paul Walker|Jason Statham|Michelle ...</td>\n",
       "      <td>http://www.furious7.com/</td>\n",
       "      <td>James Wan</td>\n",
       "      <td>Vengeance Hits Home</td>\n",
       "      <td>...</td>\n",
       "      <td>Deckard Shaw seeks revenge against Dominic Tor...</td>\n",
       "      <td>137</td>\n",
       "      <td>Action|Crime|Thriller</td>\n",
       "      <td>Universal Pictures|Original Film|Media Rights ...</td>\n",
       "      <td>4/1/15</td>\n",
       "      <td>2947</td>\n",
       "      <td>7.3</td>\n",
       "      <td>2015</td>\n",
       "      <td>1.747999e+08</td>\n",
       "      <td>1.385749e+09</td>\n",
       "    </tr>\n",
       "  </tbody>\n",
       "</table>\n",
       "<p>5 rows × 21 columns</p>\n",
       "</div>"
      ],
      "text/plain": [
       "       id    imdb_id  popularity     budget     revenue  \\\n",
       "0  135397  tt0369610   32.985763  150000000  1513528810   \n",
       "1   76341  tt1392190   28.419936  150000000   378436354   \n",
       "2  262500  tt2908446   13.112507  110000000   295238201   \n",
       "3  140607  tt2488496   11.173104  200000000  2068178225   \n",
       "4  168259  tt2820852    9.335014  190000000  1506249360   \n",
       "\n",
       "                 original_title  \\\n",
       "0                Jurassic World   \n",
       "1            Mad Max: Fury Road   \n",
       "2                     Insurgent   \n",
       "3  Star Wars: The Force Awakens   \n",
       "4                     Furious 7   \n",
       "\n",
       "                                                cast  \\\n",
       "0  Chris Pratt|Bryce Dallas Howard|Irrfan Khan|Vi...   \n",
       "1  Tom Hardy|Charlize Theron|Hugh Keays-Byrne|Nic...   \n",
       "2  Shailene Woodley|Theo James|Kate Winslet|Ansel...   \n",
       "3  Harrison Ford|Mark Hamill|Carrie Fisher|Adam D...   \n",
       "4  Vin Diesel|Paul Walker|Jason Statham|Michelle ...   \n",
       "\n",
       "                                            homepage          director  \\\n",
       "0                      http://www.jurassicworld.com/   Colin Trevorrow   \n",
       "1                        http://www.madmaxmovie.com/     George Miller   \n",
       "2     http://www.thedivergentseries.movie/#insurgent  Robert Schwentke   \n",
       "3  http://www.starwars.com/films/star-wars-episod...       J.J. Abrams   \n",
       "4                           http://www.furious7.com/         James Wan   \n",
       "\n",
       "                         tagline  ...  \\\n",
       "0              The park is open.  ...   \n",
       "1             What a Lovely Day.  ...   \n",
       "2     One Choice Can Destroy You  ...   \n",
       "3  Every generation has a story.  ...   \n",
       "4            Vengeance Hits Home  ...   \n",
       "\n",
       "                                            overview runtime  \\\n",
       "0  Twenty-two years after the events of Jurassic ...     124   \n",
       "1  An apocalyptic story set in the furthest reach...     120   \n",
       "2  Beatrice Prior must confront her inner demons ...     119   \n",
       "3  Thirty years after defeating the Galactic Empi...     136   \n",
       "4  Deckard Shaw seeks revenge against Dominic Tor...     137   \n",
       "\n",
       "                                      genres  \\\n",
       "0  Action|Adventure|Science Fiction|Thriller   \n",
       "1  Action|Adventure|Science Fiction|Thriller   \n",
       "2         Adventure|Science Fiction|Thriller   \n",
       "3   Action|Adventure|Science Fiction|Fantasy   \n",
       "4                      Action|Crime|Thriller   \n",
       "\n",
       "                                production_companies release_date vote_count  \\\n",
       "0  Universal Studios|Amblin Entertainment|Legenda...       6/9/15       5562   \n",
       "1  Village Roadshow Pictures|Kennedy Miller Produ...      5/13/15       6185   \n",
       "2  Summit Entertainment|Mandeville Films|Red Wago...      3/18/15       2480   \n",
       "3          Lucasfilm|Truenorth Productions|Bad Robot     12/15/15       5292   \n",
       "4  Universal Pictures|Original Film|Media Rights ...       4/1/15       2947   \n",
       "\n",
       "   vote_average  release_year    budget_adj   revenue_adj  \n",
       "0           6.5          2015  1.379999e+08  1.392446e+09  \n",
       "1           7.1          2015  1.379999e+08  3.481613e+08  \n",
       "2           6.3          2015  1.012000e+08  2.716190e+08  \n",
       "3           7.5          2015  1.839999e+08  1.902723e+09  \n",
       "4           7.3          2015  1.747999e+08  1.385749e+09  \n",
       "\n",
       "[5 rows x 21 columns]"
      ]
     },
     "execution_count": 8,
     "metadata": {},
     "output_type": "execute_result"
    }
   ],
   "source": [
    "df.head()"
   ]
  },
  {
   "cell_type": "code",
   "execution_count": 9,
   "metadata": {},
   "outputs": [
    {
     "data": {
      "text/plain": [
       "1"
      ]
     },
     "execution_count": 9,
     "metadata": {},
     "output_type": "execute_result"
    }
   ],
   "source": [
    "df.duplicated().sum()"
   ]
  },
  {
   "cell_type": "markdown",
   "metadata": {},
   "source": [
    "> **Tip**: You should _not_ perform too many operations in each cell. Create cells freely to explore your data. One option that you can take with this project is to do a lot of explorations in an initial notebook. These don't have to be organized, but make sure you use enough comments to understand the purpose of each code cell. Then, after you're done with your analysis, create a duplicate notebook where you will trim the excess and organize your steps so that you have a flowing, cohesive report.\n",
    "\n",
    "> **Tip**: Make sure that you keep your reader informed on the steps that you are taking in your investigation. Follow every code cell, or every set of related code cells, with a markdown cell to describe to the reader what was found in the preceding cell(s). Try to make it so that the reader can then understand what they will be seeing in the following cell(s).\n",
    "\n",
    "### Data Cleaning (Addressing duplicates and Null values!)"
   ]
  },
  {
   "cell_type": "code",
   "execution_count": 10,
   "metadata": {},
   "outputs": [],
   "source": [
    "# After discussing the structure of the data and any problems that need to be\n",
    "#   cleaned, perform those cleaning steps in the second part of this section.\n",
    "\n",
    "# dropping duplicate values\n",
    "df.drop_duplicates(inplace =True)"
   ]
  },
  {
   "cell_type": "code",
   "execution_count": 11,
   "metadata": {},
   "outputs": [
    {
     "data": {
      "text/plain": [
       "(10865, 21)"
      ]
     },
     "execution_count": 11,
     "metadata": {},
     "output_type": "execute_result"
    }
   ],
   "source": [
    "df.shape"
   ]
  },
  {
   "cell_type": "code",
   "execution_count": 12,
   "metadata": {},
   "outputs": [
    {
     "data": {
      "text/html": [
       "<div>\n",
       "<style scoped>\n",
       "    .dataframe tbody tr th:only-of-type {\n",
       "        vertical-align: middle;\n",
       "    }\n",
       "\n",
       "    .dataframe tbody tr th {\n",
       "        vertical-align: top;\n",
       "    }\n",
       "\n",
       "    .dataframe thead th {\n",
       "        text-align: right;\n",
       "    }\n",
       "</style>\n",
       "<table border=\"1\" class=\"dataframe\">\n",
       "  <thead>\n",
       "    <tr style=\"text-align: right;\">\n",
       "      <th></th>\n",
       "      <th>id</th>\n",
       "      <th>imdb_id</th>\n",
       "      <th>popularity</th>\n",
       "      <th>budget</th>\n",
       "      <th>revenue</th>\n",
       "      <th>original_title</th>\n",
       "      <th>cast</th>\n",
       "      <th>director</th>\n",
       "      <th>runtime</th>\n",
       "      <th>genres</th>\n",
       "      <th>vote_count</th>\n",
       "      <th>vote_average</th>\n",
       "      <th>release_year</th>\n",
       "      <th>budget_adj</th>\n",
       "      <th>revenue_adj</th>\n",
       "    </tr>\n",
       "  </thead>\n",
       "  <tbody>\n",
       "    <tr>\n",
       "      <th>0</th>\n",
       "      <td>135397</td>\n",
       "      <td>tt0369610</td>\n",
       "      <td>32.985763</td>\n",
       "      <td>150000000</td>\n",
       "      <td>1513528810</td>\n",
       "      <td>Jurassic World</td>\n",
       "      <td>Chris Pratt|Bryce Dallas Howard|Irrfan Khan|Vi...</td>\n",
       "      <td>Colin Trevorrow</td>\n",
       "      <td>124</td>\n",
       "      <td>Action|Adventure|Science Fiction|Thriller</td>\n",
       "      <td>5562</td>\n",
       "      <td>6.5</td>\n",
       "      <td>2015</td>\n",
       "      <td>1.379999e+08</td>\n",
       "      <td>1.392446e+09</td>\n",
       "    </tr>\n",
       "  </tbody>\n",
       "</table>\n",
       "</div>"
      ],
      "text/plain": [
       "       id    imdb_id  popularity     budget     revenue  original_title  \\\n",
       "0  135397  tt0369610   32.985763  150000000  1513528810  Jurassic World   \n",
       "\n",
       "                                                cast         director  \\\n",
       "0  Chris Pratt|Bryce Dallas Howard|Irrfan Khan|Vi...  Colin Trevorrow   \n",
       "\n",
       "   runtime                                     genres  vote_count  \\\n",
       "0      124  Action|Adventure|Science Fiction|Thriller        5562   \n",
       "\n",
       "   vote_average  release_year    budget_adj   revenue_adj  \n",
       "0           6.5          2015  1.379999e+08  1.392446e+09  "
      ]
     },
     "execution_count": 12,
     "metadata": {},
     "output_type": "execute_result"
    }
   ],
   "source": [
    "#drop columns that are not needed\n",
    "\n",
    "df.drop(['homepage', 'tagline', 'keywords', 'overview', 'production_companies', 'release_date'], axis=1, inplace=True)\n",
    "\n",
    "df.head(1)"
   ]
  },
  {
   "cell_type": "code",
   "execution_count": 13,
   "metadata": {},
   "outputs": [
    {
     "data": {
      "text/plain": [
       "294"
      ]
     },
     "execution_count": 13,
     "metadata": {},
     "output_type": "execute_result"
    }
   ],
   "source": [
    "df['original_title'].duplicated().sum()"
   ]
  },
  {
   "cell_type": "code",
   "execution_count": 14,
   "metadata": {},
   "outputs": [
    {
     "data": {
      "text/html": [
       "<div>\n",
       "<style scoped>\n",
       "    .dataframe tbody tr th:only-of-type {\n",
       "        vertical-align: middle;\n",
       "    }\n",
       "\n",
       "    .dataframe tbody tr th {\n",
       "        vertical-align: top;\n",
       "    }\n",
       "\n",
       "    .dataframe thead th {\n",
       "        text-align: right;\n",
       "    }\n",
       "</style>\n",
       "<table border=\"1\" class=\"dataframe\">\n",
       "  <thead>\n",
       "    <tr style=\"text-align: right;\">\n",
       "      <th></th>\n",
       "      <th>id</th>\n",
       "      <th>imdb_id</th>\n",
       "      <th>popularity</th>\n",
       "      <th>budget</th>\n",
       "      <th>revenue</th>\n",
       "      <th>original_title</th>\n",
       "      <th>cast</th>\n",
       "      <th>director</th>\n",
       "      <th>runtime</th>\n",
       "      <th>genres</th>\n",
       "      <th>vote_count</th>\n",
       "      <th>vote_average</th>\n",
       "      <th>release_year</th>\n",
       "      <th>budget_adj</th>\n",
       "      <th>revenue_adj</th>\n",
       "    </tr>\n",
       "  </thead>\n",
       "  <tbody>\n",
       "    <tr>\n",
       "      <th>5748</th>\n",
       "      <td>176068</td>\n",
       "      <td>tt2395385</td>\n",
       "      <td>0.336081</td>\n",
       "      <td>0</td>\n",
       "      <td>0</td>\n",
       "      <td>1</td>\n",
       "      <td>Rhys Wakefield|Logan Miller|Ashley Hinshaw|Nat...</td>\n",
       "      <td>Dennis Iliadis</td>\n",
       "      <td>95</td>\n",
       "      <td>Thriller|Science Fiction</td>\n",
       "      <td>49</td>\n",
       "      <td>5.1</td>\n",
       "      <td>2013</td>\n",
       "      <td>0.000000e+00</td>\n",
       "      <td>0.000000e+00</td>\n",
       "    </tr>\n",
       "    <tr>\n",
       "      <th>6514</th>\n",
       "      <td>98622</td>\n",
       "      <td>tt0443424</td>\n",
       "      <td>0.128484</td>\n",
       "      <td>0</td>\n",
       "      <td>0</td>\n",
       "      <td>9</td>\n",
       "      <td>NaN</td>\n",
       "      <td>Shane Acker</td>\n",
       "      <td>11</td>\n",
       "      <td>Animation|Fantasy</td>\n",
       "      <td>49</td>\n",
       "      <td>7.3</td>\n",
       "      <td>2005</td>\n",
       "      <td>0.000000e+00</td>\n",
       "      <td>0.000000e+00</td>\n",
       "    </tr>\n",
       "    <tr>\n",
       "      <th>7917</th>\n",
       "      <td>13189</td>\n",
       "      <td>tt0087056</td>\n",
       "      <td>0.542315</td>\n",
       "      <td>0</td>\n",
       "      <td>0</td>\n",
       "      <td>A Christmas Carol</td>\n",
       "      <td>George C. Scott|Roger Rees|David Warner|Susann...</td>\n",
       "      <td>Clive Donner</td>\n",
       "      <td>100</td>\n",
       "      <td>TV Movie|Fantasy|Drama|Comedy|Family</td>\n",
       "      <td>29</td>\n",
       "      <td>6.6</td>\n",
       "      <td>1984</td>\n",
       "      <td>0.000000e+00</td>\n",
       "      <td>0.000000e+00</td>\n",
       "    </tr>\n",
       "    <tr>\n",
       "      <th>2489</th>\n",
       "      <td>16716</td>\n",
       "      <td>tt0216621</td>\n",
       "      <td>0.521573</td>\n",
       "      <td>0</td>\n",
       "      <td>0</td>\n",
       "      <td>A Christmas Carol</td>\n",
       "      <td>Patrick Stewart|Richard E. Grant|Joel Grey|Ian...</td>\n",
       "      <td>David Hugh Jones</td>\n",
       "      <td>95</td>\n",
       "      <td>Drama|Fantasy</td>\n",
       "      <td>23</td>\n",
       "      <td>6.1</td>\n",
       "      <td>1999</td>\n",
       "      <td>0.000000e+00</td>\n",
       "      <td>0.000000e+00</td>\n",
       "    </tr>\n",
       "    <tr>\n",
       "      <th>7891</th>\n",
       "      <td>377</td>\n",
       "      <td>tt0087800</td>\n",
       "      <td>1.331432</td>\n",
       "      <td>1800000</td>\n",
       "      <td>25504513</td>\n",
       "      <td>A Nightmare on Elm Street</td>\n",
       "      <td>John Saxon|Ronee Blakley|Heather Langenkamp|Am...</td>\n",
       "      <td>Wes Craven</td>\n",
       "      <td>91</td>\n",
       "      <td>Horror</td>\n",
       "      <td>625</td>\n",
       "      <td>7.1</td>\n",
       "      <td>1984</td>\n",
       "      <td>3.778276e+06</td>\n",
       "      <td>5.353504e+07</td>\n",
       "    </tr>\n",
       "    <tr>\n",
       "      <th>...</th>\n",
       "      <td>...</td>\n",
       "      <td>...</td>\n",
       "      <td>...</td>\n",
       "      <td>...</td>\n",
       "      <td>...</td>\n",
       "      <td>...</td>\n",
       "      <td>...</td>\n",
       "      <td>...</td>\n",
       "      <td>...</td>\n",
       "      <td>...</td>\n",
       "      <td>...</td>\n",
       "      <td>...</td>\n",
       "      <td>...</td>\n",
       "      <td>...</td>\n",
       "      <td>...</td>\n",
       "    </tr>\n",
       "    <tr>\n",
       "      <th>4124</th>\n",
       "      <td>39227</td>\n",
       "      <td>tt0324532</td>\n",
       "      <td>0.212966</td>\n",
       "      <td>0</td>\n",
       "      <td>0</td>\n",
       "      <td>When in Rome</td>\n",
       "      <td>Mary-Kate Olsen|Ashley Olsen|Leslie Danon|Juli...</td>\n",
       "      <td>Steve Purcell</td>\n",
       "      <td>94</td>\n",
       "      <td>Action|Adventure|Comedy|Drama|Family</td>\n",
       "      <td>38</td>\n",
       "      <td>5.7</td>\n",
       "      <td>2002</td>\n",
       "      <td>0.000000e+00</td>\n",
       "      <td>0.000000e+00</td>\n",
       "    </tr>\n",
       "    <tr>\n",
       "      <th>8332</th>\n",
       "      <td>25095</td>\n",
       "      <td>tt0104181</td>\n",
       "      <td>0.269621</td>\n",
       "      <td>0</td>\n",
       "      <td>0</td>\n",
       "      <td>Wuthering Heights</td>\n",
       "      <td>Juliette Binoche|Ralph Fiennes|Jeremy Northam|...</td>\n",
       "      <td>Peter Kosminsky</td>\n",
       "      <td>105</td>\n",
       "      <td>Drama|Romance</td>\n",
       "      <td>30</td>\n",
       "      <td>7.0</td>\n",
       "      <td>1992</td>\n",
       "      <td>0.000000e+00</td>\n",
       "      <td>0.000000e+00</td>\n",
       "    </tr>\n",
       "    <tr>\n",
       "      <th>3636</th>\n",
       "      <td>9364</td>\n",
       "      <td>tt1181614</td>\n",
       "      <td>0.414629</td>\n",
       "      <td>8000000</td>\n",
       "      <td>100915</td>\n",
       "      <td>Wuthering Heights</td>\n",
       "      <td>Kaya Scodelario|James Northcote|Amy Wren|Nicho...</td>\n",
       "      <td>Andrea Arnold</td>\n",
       "      <td>129</td>\n",
       "      <td>Drama|Romance</td>\n",
       "      <td>36</td>\n",
       "      <td>5.6</td>\n",
       "      <td>2011</td>\n",
       "      <td>7.755184e+06</td>\n",
       "      <td>9.782680e+04</td>\n",
       "    </tr>\n",
       "    <tr>\n",
       "      <th>7423</th>\n",
       "      <td>1949</td>\n",
       "      <td>tt0443706</td>\n",
       "      <td>1.464555</td>\n",
       "      <td>65000000</td>\n",
       "      <td>84785914</td>\n",
       "      <td>Zodiac</td>\n",
       "      <td>Jake Gyllenhaal|Robert Downey Jr.|Mark Ruffalo...</td>\n",
       "      <td>David Fincher</td>\n",
       "      <td>157</td>\n",
       "      <td>Crime|Drama|Mystery|Thriller</td>\n",
       "      <td>1042</td>\n",
       "      <td>7.1</td>\n",
       "      <td>2007</td>\n",
       "      <td>6.835846e+07</td>\n",
       "      <td>8.916668e+07</td>\n",
       "    </tr>\n",
       "    <tr>\n",
       "      <th>9893</th>\n",
       "      <td>14433</td>\n",
       "      <td>tt0058777</td>\n",
       "      <td>0.306872</td>\n",
       "      <td>0</td>\n",
       "      <td>0</td>\n",
       "      <td>Zulu</td>\n",
       "      <td>Stanley Baker|Jack Hawkins|Ulla Jacobsson|Jame...</td>\n",
       "      <td>Cy Endfield</td>\n",
       "      <td>138</td>\n",
       "      <td>Action|Drama|History|War</td>\n",
       "      <td>65</td>\n",
       "      <td>6.6</td>\n",
       "      <td>1964</td>\n",
       "      <td>0.000000e+00</td>\n",
       "      <td>0.000000e+00</td>\n",
       "    </tr>\n",
       "  </tbody>\n",
       "</table>\n",
       "<p>294 rows × 15 columns</p>\n",
       "</div>"
      ],
      "text/plain": [
       "          id    imdb_id  popularity    budget   revenue  \\\n",
       "5748  176068  tt2395385    0.336081         0         0   \n",
       "6514   98622  tt0443424    0.128484         0         0   \n",
       "7917   13189  tt0087056    0.542315         0         0   \n",
       "2489   16716  tt0216621    0.521573         0         0   \n",
       "7891     377  tt0087800    1.331432   1800000  25504513   \n",
       "...      ...        ...         ...       ...       ...   \n",
       "4124   39227  tt0324532    0.212966         0         0   \n",
       "8332   25095  tt0104181    0.269621         0         0   \n",
       "3636    9364  tt1181614    0.414629   8000000    100915   \n",
       "7423    1949  tt0443706    1.464555  65000000  84785914   \n",
       "9893   14433  tt0058777    0.306872         0         0   \n",
       "\n",
       "                 original_title  \\\n",
       "5748                          1   \n",
       "6514                          9   \n",
       "7917          A Christmas Carol   \n",
       "2489          A Christmas Carol   \n",
       "7891  A Nightmare on Elm Street   \n",
       "...                         ...   \n",
       "4124               When in Rome   \n",
       "8332          Wuthering Heights   \n",
       "3636          Wuthering Heights   \n",
       "7423                     Zodiac   \n",
       "9893                       Zulu   \n",
       "\n",
       "                                                   cast          director  \\\n",
       "5748  Rhys Wakefield|Logan Miller|Ashley Hinshaw|Nat...    Dennis Iliadis   \n",
       "6514                                                NaN       Shane Acker   \n",
       "7917  George C. Scott|Roger Rees|David Warner|Susann...      Clive Donner   \n",
       "2489  Patrick Stewart|Richard E. Grant|Joel Grey|Ian...  David Hugh Jones   \n",
       "7891  John Saxon|Ronee Blakley|Heather Langenkamp|Am...        Wes Craven   \n",
       "...                                                 ...               ...   \n",
       "4124  Mary-Kate Olsen|Ashley Olsen|Leslie Danon|Juli...     Steve Purcell   \n",
       "8332  Juliette Binoche|Ralph Fiennes|Jeremy Northam|...   Peter Kosminsky   \n",
       "3636  Kaya Scodelario|James Northcote|Amy Wren|Nicho...     Andrea Arnold   \n",
       "7423  Jake Gyllenhaal|Robert Downey Jr.|Mark Ruffalo...     David Fincher   \n",
       "9893  Stanley Baker|Jack Hawkins|Ulla Jacobsson|Jame...       Cy Endfield   \n",
       "\n",
       "      runtime                                genres  vote_count  vote_average  \\\n",
       "5748       95              Thriller|Science Fiction          49           5.1   \n",
       "6514       11                     Animation|Fantasy          49           7.3   \n",
       "7917      100  TV Movie|Fantasy|Drama|Comedy|Family          29           6.6   \n",
       "2489       95                         Drama|Fantasy          23           6.1   \n",
       "7891       91                                Horror         625           7.1   \n",
       "...       ...                                   ...         ...           ...   \n",
       "4124       94  Action|Adventure|Comedy|Drama|Family          38           5.7   \n",
       "8332      105                         Drama|Romance          30           7.0   \n",
       "3636      129                         Drama|Romance          36           5.6   \n",
       "7423      157          Crime|Drama|Mystery|Thriller        1042           7.1   \n",
       "9893      138              Action|Drama|History|War          65           6.6   \n",
       "\n",
       "      release_year    budget_adj   revenue_adj  \n",
       "5748          2013  0.000000e+00  0.000000e+00  \n",
       "6514          2005  0.000000e+00  0.000000e+00  \n",
       "7917          1984  0.000000e+00  0.000000e+00  \n",
       "2489          1999  0.000000e+00  0.000000e+00  \n",
       "7891          1984  3.778276e+06  5.353504e+07  \n",
       "...            ...           ...           ...  \n",
       "4124          2002  0.000000e+00  0.000000e+00  \n",
       "8332          1992  0.000000e+00  0.000000e+00  \n",
       "3636          2011  7.755184e+06  9.782680e+04  \n",
       "7423          2007  6.835846e+07  8.916668e+07  \n",
       "9893          1964  0.000000e+00  0.000000e+00  \n",
       "\n",
       "[294 rows x 15 columns]"
      ]
     },
     "execution_count": 14,
     "metadata": {},
     "output_type": "execute_result"
    }
   ],
   "source": [
    "duplicated_titles = df[df.duplicated(['original_title'])]\n",
    "duplicated_titles = duplicated_titles.sort_values('original_title')\n",
    "duplicated_titles"
   ]
  },
  {
   "cell_type": "code",
   "execution_count": 15,
   "metadata": {},
   "outputs": [
    {
     "data": {
      "text/plain": [
       "0"
      ]
     },
     "execution_count": 15,
     "metadata": {},
     "output_type": "execute_result"
    }
   ],
   "source": [
    "df['id'].duplicated().sum()"
   ]
  },
  {
   "cell_type": "code",
   "execution_count": 16,
   "metadata": {},
   "outputs": [
    {
     "data": {
      "text/plain": [
       "9"
      ]
     },
     "execution_count": 16,
     "metadata": {},
     "output_type": "execute_result"
    }
   ],
   "source": [
    "df['imdb_id'].duplicated().sum()"
   ]
  },
  {
   "cell_type": "code",
   "execution_count": 17,
   "metadata": {},
   "outputs": [
    {
     "data": {
      "text/plain": [
       "id                 0\n",
       "imdb_id           10\n",
       "popularity         0\n",
       "budget             0\n",
       "revenue            0\n",
       "original_title     0\n",
       "cast              76\n",
       "director          44\n",
       "runtime            0\n",
       "genres            23\n",
       "vote_count         0\n",
       "vote_average       0\n",
       "release_year       0\n",
       "budget_adj         0\n",
       "revenue_adj        0\n",
       "dtype: int64"
      ]
     },
     "execution_count": 17,
     "metadata": {},
     "output_type": "execute_result"
    }
   ],
   "source": [
    "df.isnull().sum()"
   ]
  },
  {
   "cell_type": "code",
   "execution_count": 18,
   "metadata": {},
   "outputs": [
    {
     "data": {
      "text/html": [
       "<div>\n",
       "<style scoped>\n",
       "    .dataframe tbody tr th:only-of-type {\n",
       "        vertical-align: middle;\n",
       "    }\n",
       "\n",
       "    .dataframe tbody tr th {\n",
       "        vertical-align: top;\n",
       "    }\n",
       "\n",
       "    .dataframe thead th {\n",
       "        text-align: right;\n",
       "    }\n",
       "</style>\n",
       "<table border=\"1\" class=\"dataframe\">\n",
       "  <thead>\n",
       "    <tr style=\"text-align: right;\">\n",
       "      <th></th>\n",
       "      <th>id</th>\n",
       "      <th>imdb_id</th>\n",
       "      <th>popularity</th>\n",
       "      <th>budget</th>\n",
       "      <th>revenue</th>\n",
       "      <th>original_title</th>\n",
       "      <th>cast</th>\n",
       "      <th>director</th>\n",
       "      <th>runtime</th>\n",
       "      <th>genres</th>\n",
       "      <th>vote_count</th>\n",
       "      <th>vote_average</th>\n",
       "      <th>release_year</th>\n",
       "      <th>budget_adj</th>\n",
       "      <th>revenue_adj</th>\n",
       "    </tr>\n",
       "  </thead>\n",
       "  <tbody>\n",
       "    <tr>\n",
       "      <th>997</th>\n",
       "      <td>287663</td>\n",
       "      <td>NaN</td>\n",
       "      <td>0.330431</td>\n",
       "      <td>0</td>\n",
       "      <td>0</td>\n",
       "      <td>Star Wars Rebels: Spark of Rebellion</td>\n",
       "      <td>Freddie Prinze Jr.|Vanessa Marshall|Steve Blum...</td>\n",
       "      <td>Steward Lee|Steven G. Lee</td>\n",
       "      <td>44</td>\n",
       "      <td>NaN</td>\n",
       "      <td>13</td>\n",
       "      <td>6.8</td>\n",
       "      <td>2014</td>\n",
       "      <td>0.000000</td>\n",
       "      <td>0.0</td>\n",
       "    </tr>\n",
       "    <tr>\n",
       "      <th>1528</th>\n",
       "      <td>15257</td>\n",
       "      <td>NaN</td>\n",
       "      <td>0.607851</td>\n",
       "      <td>0</td>\n",
       "      <td>0</td>\n",
       "      <td>Hulk vs. Wolverine</td>\n",
       "      <td>Fred Tatasciore|Bryce Johnson|Steve Blum|Nolan...</td>\n",
       "      <td>Frank Paur</td>\n",
       "      <td>38</td>\n",
       "      <td>Animation|Action|Science Fiction</td>\n",
       "      <td>38</td>\n",
       "      <td>6.9</td>\n",
       "      <td>2009</td>\n",
       "      <td>0.000000</td>\n",
       "      <td>0.0</td>\n",
       "    </tr>\n",
       "    <tr>\n",
       "      <th>1750</th>\n",
       "      <td>101907</td>\n",
       "      <td>NaN</td>\n",
       "      <td>0.256975</td>\n",
       "      <td>0</td>\n",
       "      <td>0</td>\n",
       "      <td>Hulk vs. Thor</td>\n",
       "      <td>Graham McTavish|Fred Tatasciore|Matthew Wolf|J...</td>\n",
       "      <td>Sam Liu</td>\n",
       "      <td>41</td>\n",
       "      <td>Action|Animation|Fantasy|Science Fiction</td>\n",
       "      <td>38</td>\n",
       "      <td>6.4</td>\n",
       "      <td>2009</td>\n",
       "      <td>0.000000</td>\n",
       "      <td>0.0</td>\n",
       "    </tr>\n",
       "    <tr>\n",
       "      <th>2401</th>\n",
       "      <td>45644</td>\n",
       "      <td>NaN</td>\n",
       "      <td>0.067753</td>\n",
       "      <td>0</td>\n",
       "      <td>0</td>\n",
       "      <td>Opeth: In Live Concert At The Royal Albert Hall</td>\n",
       "      <td>Mikael Ã…kerfeldt|Martin \"Axe\" Axenrot|Martin ...</td>\n",
       "      <td>NaN</td>\n",
       "      <td>163</td>\n",
       "      <td>Music</td>\n",
       "      <td>10</td>\n",
       "      <td>8.6</td>\n",
       "      <td>2010</td>\n",
       "      <td>0.000000</td>\n",
       "      <td>0.0</td>\n",
       "    </tr>\n",
       "    <tr>\n",
       "      <th>4797</th>\n",
       "      <td>369145</td>\n",
       "      <td>NaN</td>\n",
       "      <td>0.167501</td>\n",
       "      <td>0</td>\n",
       "      <td>0</td>\n",
       "      <td>Doctor Who: The Snowmen</td>\n",
       "      <td>Matt Smith|Jenna Coleman|Richard E. Grant|Ian ...</td>\n",
       "      <td>NaN</td>\n",
       "      <td>60</td>\n",
       "      <td>NaN</td>\n",
       "      <td>10</td>\n",
       "      <td>7.8</td>\n",
       "      <td>2012</td>\n",
       "      <td>0.000000</td>\n",
       "      <td>0.0</td>\n",
       "    </tr>\n",
       "    <tr>\n",
       "      <th>4872</th>\n",
       "      <td>269177</td>\n",
       "      <td>NaN</td>\n",
       "      <td>0.090552</td>\n",
       "      <td>0</td>\n",
       "      <td>0</td>\n",
       "      <td>Party Bercy</td>\n",
       "      <td>Florence Foresti</td>\n",
       "      <td>NaN</td>\n",
       "      <td>120</td>\n",
       "      <td>Comedy</td>\n",
       "      <td>15</td>\n",
       "      <td>6.4</td>\n",
       "      <td>2012</td>\n",
       "      <td>0.000000</td>\n",
       "      <td>0.0</td>\n",
       "    </tr>\n",
       "    <tr>\n",
       "      <th>6071</th>\n",
       "      <td>279954</td>\n",
       "      <td>NaN</td>\n",
       "      <td>0.004323</td>\n",
       "      <td>500</td>\n",
       "      <td>0</td>\n",
       "      <td>Portal: Survive!</td>\n",
       "      <td>Monique Blanchard|Bradley Mixon</td>\n",
       "      <td>Connor McGuire|Colin McGuire</td>\n",
       "      <td>7</td>\n",
       "      <td>Action|Science Fiction</td>\n",
       "      <td>11</td>\n",
       "      <td>7.5</td>\n",
       "      <td>2013</td>\n",
       "      <td>468.016676</td>\n",
       "      <td>0.0</td>\n",
       "    </tr>\n",
       "    <tr>\n",
       "      <th>7527</th>\n",
       "      <td>50127</td>\n",
       "      <td>NaN</td>\n",
       "      <td>0.570337</td>\n",
       "      <td>0</td>\n",
       "      <td>0</td>\n",
       "      <td>Fallen: The Journey</td>\n",
       "      <td>Paul Wesley|Fernanda Andrade|Tom Skerritt|Rick...</td>\n",
       "      <td>Mikael Salomon</td>\n",
       "      <td>80</td>\n",
       "      <td>Action|Adventure|Drama|Fantasy|Family</td>\n",
       "      <td>11</td>\n",
       "      <td>7.3</td>\n",
       "      <td>2007</td>\n",
       "      <td>0.000000</td>\n",
       "      <td>0.0</td>\n",
       "    </tr>\n",
       "    <tr>\n",
       "      <th>7809</th>\n",
       "      <td>50128</td>\n",
       "      <td>NaN</td>\n",
       "      <td>0.060795</td>\n",
       "      <td>0</td>\n",
       "      <td>0</td>\n",
       "      <td>Fallen: The Destiny</td>\n",
       "      <td>Paul Wesley|Fernanda Andrade|Tom Skerritt|Rick...</td>\n",
       "      <td>Mikael Salomon</td>\n",
       "      <td>80</td>\n",
       "      <td>Adventure|Fantasy|Drama|Action|Science Fiction</td>\n",
       "      <td>13</td>\n",
       "      <td>7.0</td>\n",
       "      <td>2007</td>\n",
       "      <td>0.000000</td>\n",
       "      <td>0.0</td>\n",
       "    </tr>\n",
       "  </tbody>\n",
       "</table>\n",
       "</div>"
      ],
      "text/plain": [
       "          id imdb_id  popularity  budget  revenue  \\\n",
       "997   287663     NaN    0.330431       0        0   \n",
       "1528   15257     NaN    0.607851       0        0   \n",
       "1750  101907     NaN    0.256975       0        0   \n",
       "2401   45644     NaN    0.067753       0        0   \n",
       "4797  369145     NaN    0.167501       0        0   \n",
       "4872  269177     NaN    0.090552       0        0   \n",
       "6071  279954     NaN    0.004323     500        0   \n",
       "7527   50127     NaN    0.570337       0        0   \n",
       "7809   50128     NaN    0.060795       0        0   \n",
       "\n",
       "                                       original_title  \\\n",
       "997              Star Wars Rebels: Spark of Rebellion   \n",
       "1528                               Hulk vs. Wolverine   \n",
       "1750                                    Hulk vs. Thor   \n",
       "2401  Opeth: In Live Concert At The Royal Albert Hall   \n",
       "4797                          Doctor Who: The Snowmen   \n",
       "4872                                      Party Bercy   \n",
       "6071                                 Portal: Survive!   \n",
       "7527                              Fallen: The Journey   \n",
       "7809                              Fallen: The Destiny   \n",
       "\n",
       "                                                   cast  \\\n",
       "997   Freddie Prinze Jr.|Vanessa Marshall|Steve Blum...   \n",
       "1528  Fred Tatasciore|Bryce Johnson|Steve Blum|Nolan...   \n",
       "1750  Graham McTavish|Fred Tatasciore|Matthew Wolf|J...   \n",
       "2401  Mikael Ã…kerfeldt|Martin \"Axe\" Axenrot|Martin ...   \n",
       "4797  Matt Smith|Jenna Coleman|Richard E. Grant|Ian ...   \n",
       "4872                                   Florence Foresti   \n",
       "6071                    Monique Blanchard|Bradley Mixon   \n",
       "7527  Paul Wesley|Fernanda Andrade|Tom Skerritt|Rick...   \n",
       "7809  Paul Wesley|Fernanda Andrade|Tom Skerritt|Rick...   \n",
       "\n",
       "                          director  runtime  \\\n",
       "997      Steward Lee|Steven G. Lee       44   \n",
       "1528                    Frank Paur       38   \n",
       "1750                       Sam Liu       41   \n",
       "2401                           NaN      163   \n",
       "4797                           NaN       60   \n",
       "4872                           NaN      120   \n",
       "6071  Connor McGuire|Colin McGuire        7   \n",
       "7527                Mikael Salomon       80   \n",
       "7809                Mikael Salomon       80   \n",
       "\n",
       "                                              genres  vote_count  \\\n",
       "997                                              NaN          13   \n",
       "1528                Animation|Action|Science Fiction          38   \n",
       "1750        Action|Animation|Fantasy|Science Fiction          38   \n",
       "2401                                           Music          10   \n",
       "4797                                             NaN          10   \n",
       "4872                                          Comedy          15   \n",
       "6071                          Action|Science Fiction          11   \n",
       "7527           Action|Adventure|Drama|Fantasy|Family          11   \n",
       "7809  Adventure|Fantasy|Drama|Action|Science Fiction          13   \n",
       "\n",
       "      vote_average  release_year  budget_adj  revenue_adj  \n",
       "997            6.8          2014    0.000000          0.0  \n",
       "1528           6.9          2009    0.000000          0.0  \n",
       "1750           6.4          2009    0.000000          0.0  \n",
       "2401           8.6          2010    0.000000          0.0  \n",
       "4797           7.8          2012    0.000000          0.0  \n",
       "4872           6.4          2012    0.000000          0.0  \n",
       "6071           7.5          2013  468.016676          0.0  \n",
       "7527           7.3          2007    0.000000          0.0  \n",
       "7809           7.0          2007    0.000000          0.0  "
      ]
     },
     "execution_count": 18,
     "metadata": {},
     "output_type": "execute_result"
    }
   ],
   "source": [
    "duplicated_imdb_id = df[df.duplicated(['imdb_id'])]\n",
    "duplicated_imdb_id"
   ]
  },
  {
   "cell_type": "code",
   "execution_count": 19,
   "metadata": {},
   "outputs": [],
   "source": [
    "#Dropping all NaN values on columns where they appear\n",
    "columns_with_null = ['imdb_id','cast','director','genres']\n",
    "df_cleaning = df.dropna(subset=columns_with_null)\n"
   ]
  },
  {
   "cell_type": "code",
   "execution_count": 20,
   "metadata": {},
   "outputs": [
    {
     "data": {
      "text/plain": [
       "(10726, 15)"
      ]
     },
     "execution_count": 20,
     "metadata": {},
     "output_type": "execute_result"
    }
   ],
   "source": [
    "df_cleaning.shape"
   ]
  },
  {
   "cell_type": "code",
   "execution_count": 21,
   "metadata": {},
   "outputs": [
    {
     "data": {
      "text/plain": [
       "id                0\n",
       "imdb_id           0\n",
       "popularity        0\n",
       "budget            0\n",
       "revenue           0\n",
       "original_title    0\n",
       "cast              0\n",
       "director          0\n",
       "runtime           0\n",
       "genres            0\n",
       "vote_count        0\n",
       "vote_average      0\n",
       "release_year      0\n",
       "budget_adj        0\n",
       "revenue_adj       0\n",
       "dtype: int64"
      ]
     },
     "execution_count": 21,
     "metadata": {},
     "output_type": "execute_result"
    }
   ],
   "source": [
    "df_cleaning.isnull().sum()"
   ]
  },
  {
   "cell_type": "code",
   "execution_count": 22,
   "metadata": {},
   "outputs": [
    {
     "data": {
      "text/plain": [
       "0"
      ]
     },
     "execution_count": 22,
     "metadata": {},
     "output_type": "execute_result"
    }
   ],
   "source": [
    "df_cleaning.duplicated().sum()"
   ]
  },
  {
   "cell_type": "code",
   "execution_count": 23,
   "metadata": {},
   "outputs": [
    {
     "data": {
      "text/html": [
       "<div>\n",
       "<style scoped>\n",
       "    .dataframe tbody tr th:only-of-type {\n",
       "        vertical-align: middle;\n",
       "    }\n",
       "\n",
       "    .dataframe tbody tr th {\n",
       "        vertical-align: top;\n",
       "    }\n",
       "\n",
       "    .dataframe thead th {\n",
       "        text-align: right;\n",
       "    }\n",
       "</style>\n",
       "<table border=\"1\" class=\"dataframe\">\n",
       "  <thead>\n",
       "    <tr style=\"text-align: right;\">\n",
       "      <th></th>\n",
       "      <th>id</th>\n",
       "      <th>imdb_id</th>\n",
       "      <th>popularity</th>\n",
       "      <th>budget</th>\n",
       "      <th>revenue</th>\n",
       "      <th>original_title</th>\n",
       "      <th>cast</th>\n",
       "      <th>director</th>\n",
       "      <th>runtime</th>\n",
       "      <th>genres</th>\n",
       "      <th>vote_count</th>\n",
       "      <th>vote_average</th>\n",
       "      <th>release_year</th>\n",
       "      <th>budget_adj</th>\n",
       "      <th>revenue_adj</th>\n",
       "    </tr>\n",
       "  </thead>\n",
       "  <tbody>\n",
       "    <tr>\n",
       "      <th>0</th>\n",
       "      <td>135397</td>\n",
       "      <td>tt0369610</td>\n",
       "      <td>32.985763</td>\n",
       "      <td>150000000</td>\n",
       "      <td>1513528810</td>\n",
       "      <td>Jurassic World</td>\n",
       "      <td>Chris Pratt|Bryce Dallas Howard|Irrfan Khan|Vi...</td>\n",
       "      <td>Colin Trevorrow</td>\n",
       "      <td>124</td>\n",
       "      <td>Action|Adventure|Science Fiction|Thriller</td>\n",
       "      <td>5562</td>\n",
       "      <td>6.5</td>\n",
       "      <td>2015</td>\n",
       "      <td>1.379999e+08</td>\n",
       "      <td>1.392446e+09</td>\n",
       "    </tr>\n",
       "  </tbody>\n",
       "</table>\n",
       "</div>"
      ],
      "text/plain": [
       "       id    imdb_id  popularity     budget     revenue  original_title  \\\n",
       "0  135397  tt0369610   32.985763  150000000  1513528810  Jurassic World   \n",
       "\n",
       "                                                cast         director  \\\n",
       "0  Chris Pratt|Bryce Dallas Howard|Irrfan Khan|Vi...  Colin Trevorrow   \n",
       "\n",
       "   runtime                                     genres  vote_count  \\\n",
       "0      124  Action|Adventure|Science Fiction|Thriller        5562   \n",
       "\n",
       "   vote_average  release_year    budget_adj   revenue_adj  \n",
       "0           6.5          2015  1.379999e+08  1.392446e+09  "
      ]
     },
     "execution_count": 23,
     "metadata": {},
     "output_type": "execute_result"
    }
   ],
   "source": [
    "df_cleaning.head(1)"
   ]
  },
  {
   "cell_type": "code",
   "execution_count": 24,
   "metadata": {},
   "outputs": [
    {
     "data": {
      "text/plain": [
       "id                  int64\n",
       "imdb_id            object\n",
       "popularity        float64\n",
       "budget              int64\n",
       "revenue             int64\n",
       "original_title     object\n",
       "cast               object\n",
       "director           object\n",
       "runtime             int64\n",
       "genres             object\n",
       "vote_count          int64\n",
       "vote_average      float64\n",
       "release_year        int64\n",
       "budget_adj        float64\n",
       "revenue_adj       float64\n",
       "dtype: object"
      ]
     },
     "execution_count": 24,
     "metadata": {},
     "output_type": "execute_result"
    }
   ],
   "source": [
    "df_cleaning.dtypes"
   ]
  },
  {
   "cell_type": "code",
   "execution_count": 29,
   "metadata": {},
   "outputs": [],
   "source": [
    "def column_counter(column_name):\n",
    "    row_length_collector = []\n",
    "    for index in df_cleaning.index:\n",
    "        index_length = len(df_cleaning[column_name][index].split(\"|\"))\n",
    "        row_length_collector.append(index_length)\n",
    "    return row_length_collector        "
   ]
  },
  {
   "cell_type": "code",
   "execution_count": 30,
   "metadata": {},
   "outputs": [
    {
     "name": "stderr",
     "output_type": "stream",
     "text": [
      "C:\\Users\\AJI\\AppData\\Local\\Temp\\ipykernel_16820\\1449635867.py:1: SettingWithCopyWarning: \n",
      "A value is trying to be set on a copy of a slice from a DataFrame.\n",
      "Try using .loc[row_indexer,col_indexer] = value instead\n",
      "\n",
      "See the caveats in the documentation: https://pandas.pydata.org/pandas-docs/stable/user_guide/indexing.html#returning-a-view-versus-a-copy\n",
      "  df_cleaning['number_of_cast'] = column_counter('cast')\n"
     ]
    }
   ],
   "source": [
    "df_cleaning['number_of_cast'] = column_counter('cast')"
   ]
  },
  {
   "cell_type": "code",
   "execution_count": 31,
   "metadata": {},
   "outputs": [
    {
     "name": "stderr",
     "output_type": "stream",
     "text": [
      "C:\\Users\\AJI\\AppData\\Local\\Temp\\ipykernel_16820\\2844331984.py:1: SettingWithCopyWarning: \n",
      "A value is trying to be set on a copy of a slice from a DataFrame.\n",
      "Try using .loc[row_indexer,col_indexer] = value instead\n",
      "\n",
      "See the caveats in the documentation: https://pandas.pydata.org/pandas-docs/stable/user_guide/indexing.html#returning-a-view-versus-a-copy\n",
      "  df_cleaning['number_of_director'] = column_counter('director')\n"
     ]
    }
   ],
   "source": [
    "df_cleaning['number_of_director'] = column_counter('director')"
   ]
  },
  {
   "cell_type": "code",
   "execution_count": 32,
   "metadata": {},
   "outputs": [
    {
     "name": "stderr",
     "output_type": "stream",
     "text": [
      "C:\\Users\\AJI\\AppData\\Local\\Temp\\ipykernel_16820\\3157494571.py:1: SettingWithCopyWarning: \n",
      "A value is trying to be set on a copy of a slice from a DataFrame.\n",
      "Try using .loc[row_indexer,col_indexer] = value instead\n",
      "\n",
      "See the caveats in the documentation: https://pandas.pydata.org/pandas-docs/stable/user_guide/indexing.html#returning-a-view-versus-a-copy\n",
      "  df_cleaning['genre_count'] = column_counter('genres')\n"
     ]
    }
   ],
   "source": [
    "df_cleaning['genre_count'] = column_counter('genres')"
   ]
  },
  {
   "cell_type": "code",
   "execution_count": 33,
   "metadata": {},
   "outputs": [
    {
     "data": {
      "text/html": [
       "<div>\n",
       "<style scoped>\n",
       "    .dataframe tbody tr th:only-of-type {\n",
       "        vertical-align: middle;\n",
       "    }\n",
       "\n",
       "    .dataframe tbody tr th {\n",
       "        vertical-align: top;\n",
       "    }\n",
       "\n",
       "    .dataframe thead th {\n",
       "        text-align: right;\n",
       "    }\n",
       "</style>\n",
       "<table border=\"1\" class=\"dataframe\">\n",
       "  <thead>\n",
       "    <tr style=\"text-align: right;\">\n",
       "      <th></th>\n",
       "      <th>id</th>\n",
       "      <th>imdb_id</th>\n",
       "      <th>popularity</th>\n",
       "      <th>budget</th>\n",
       "      <th>revenue</th>\n",
       "      <th>original_title</th>\n",
       "      <th>cast</th>\n",
       "      <th>director</th>\n",
       "      <th>runtime</th>\n",
       "      <th>genres</th>\n",
       "      <th>vote_count</th>\n",
       "      <th>vote_average</th>\n",
       "      <th>release_year</th>\n",
       "      <th>budget_adj</th>\n",
       "      <th>revenue_adj</th>\n",
       "      <th>number_of_cast</th>\n",
       "      <th>genre_count</th>\n",
       "      <th>number_of_director</th>\n",
       "    </tr>\n",
       "  </thead>\n",
       "  <tbody>\n",
       "    <tr>\n",
       "      <th>7751</th>\n",
       "      <td>36108</td>\n",
       "      <td>tt0973844</td>\n",
       "      <td>0.149692</td>\n",
       "      <td>0</td>\n",
       "      <td>0</td>\n",
       "      <td>Chacun son cinema ou Ce petit coup au coeur qu...</td>\n",
       "      <td>Isabelle Adjani|Pegah Ahangarani|Anouk AimÃ©e|...</td>\n",
       "      <td>Theo Angelopoulos|Olivier Assayas|Bille August...</td>\n",
       "      <td>100</td>\n",
       "      <td>Comedy|Drama</td>\n",
       "      <td>10</td>\n",
       "      <td>7.4</td>\n",
       "      <td>2007</td>\n",
       "      <td>0.000000e+00</td>\n",
       "      <td>0.000000e+00</td>\n",
       "      <td>5</td>\n",
       "      <td>2</td>\n",
       "      <td>36</td>\n",
       "    </tr>\n",
       "    <tr>\n",
       "      <th>919</th>\n",
       "      <td>193726</td>\n",
       "      <td>tt2926810</td>\n",
       "      <td>0.453382</td>\n",
       "      <td>0</td>\n",
       "      <td>7171</td>\n",
       "      <td>ABCs of Death 2</td>\n",
       "      <td>Eric Jacobus|Julian Barratt|Ian Virgo|Miguel Ã...</td>\n",
       "      <td>Chris Nash|Rodney Ascher|Bill Plympton|Erik Ma...</td>\n",
       "      <td>125</td>\n",
       "      <td>Horror</td>\n",
       "      <td>44</td>\n",
       "      <td>5.4</td>\n",
       "      <td>2014</td>\n",
       "      <td>0.000000e+00</td>\n",
       "      <td>6.605144e+03</td>\n",
       "      <td>5</td>\n",
       "      <td>1</td>\n",
       "      <td>30</td>\n",
       "    </tr>\n",
       "    <tr>\n",
       "      <th>5769</th>\n",
       "      <td>87436</td>\n",
       "      <td>tt1935896</td>\n",
       "      <td>0.313754</td>\n",
       "      <td>0</td>\n",
       "      <td>21660</td>\n",
       "      <td>The ABCs of Death</td>\n",
       "      <td>Ingrid BolsÃ¸ Berdal|Erik Aude|IvÃ¡n GonzÃ¡lez...</td>\n",
       "      <td>Angela Bettis|HÃ©lÃ¨ne Cattet|Ernesto DÃ­az Es...</td>\n",
       "      <td>123</td>\n",
       "      <td>Horror</td>\n",
       "      <td>98</td>\n",
       "      <td>4.5</td>\n",
       "      <td>2013</td>\n",
       "      <td>0.000000e+00</td>\n",
       "      <td>2.027448e+04</td>\n",
       "      <td>5</td>\n",
       "      <td>1</td>\n",
       "      <td>27</td>\n",
       "    </tr>\n",
       "    <tr>\n",
       "      <th>5535</th>\n",
       "      <td>87818</td>\n",
       "      <td>tt1333125</td>\n",
       "      <td>1.020237</td>\n",
       "      <td>6000000</td>\n",
       "      <td>32438988</td>\n",
       "      <td>Movie 43</td>\n",
       "      <td>Dennis Quaid|Greg Kinnear|Common|Charlie Saxto...</td>\n",
       "      <td>Steven Brill|Elizabeth Banks|Steve Carr|Rusty ...</td>\n",
       "      <td>90</td>\n",
       "      <td>Comedy</td>\n",
       "      <td>564</td>\n",
       "      <td>4.4</td>\n",
       "      <td>2013</td>\n",
       "      <td>5.616200e+06</td>\n",
       "      <td>3.036397e+07</td>\n",
       "      <td>5</td>\n",
       "      <td>1</td>\n",
       "      <td>12</td>\n",
       "    </tr>\n",
       "    <tr>\n",
       "      <th>310</th>\n",
       "      <td>306964</td>\n",
       "      <td>tt4163020</td>\n",
       "      <td>0.393642</td>\n",
       "      <td>0</td>\n",
       "      <td>0</td>\n",
       "      <td>Tales of Halloween</td>\n",
       "      <td>Keir Gilchrist|Pollyanna McIntosh|Samuel Witwe...</td>\n",
       "      <td>Darren Lynn Bousman|Axelle Carolyn|Adam Gieras...</td>\n",
       "      <td>90</td>\n",
       "      <td>Horror</td>\n",
       "      <td>74</td>\n",
       "      <td>5.3</td>\n",
       "      <td>2015</td>\n",
       "      <td>0.000000e+00</td>\n",
       "      <td>0.000000e+00</td>\n",
       "      <td>5</td>\n",
       "      <td>1</td>\n",
       "      <td>11</td>\n",
       "    </tr>\n",
       "    <tr>\n",
       "      <th>...</th>\n",
       "      <td>...</td>\n",
       "      <td>...</td>\n",
       "      <td>...</td>\n",
       "      <td>...</td>\n",
       "      <td>...</td>\n",
       "      <td>...</td>\n",
       "      <td>...</td>\n",
       "      <td>...</td>\n",
       "      <td>...</td>\n",
       "      <td>...</td>\n",
       "      <td>...</td>\n",
       "      <td>...</td>\n",
       "      <td>...</td>\n",
       "      <td>...</td>\n",
       "      <td>...</td>\n",
       "      <td>...</td>\n",
       "      <td>...</td>\n",
       "      <td>...</td>\n",
       "    </tr>\n",
       "    <tr>\n",
       "      <th>3793</th>\n",
       "      <td>59726</td>\n",
       "      <td>tt1296899</td>\n",
       "      <td>0.103268</td>\n",
       "      <td>0</td>\n",
       "      <td>0</td>\n",
       "      <td>Wake Wood</td>\n",
       "      <td>Aidan Gillen|Eva Birthistle|Timothy Spall|Ella...</td>\n",
       "      <td>David Keating</td>\n",
       "      <td>90</td>\n",
       "      <td>Drama|Horror|Thriller|Foreign</td>\n",
       "      <td>15</td>\n",
       "      <td>6.3</td>\n",
       "      <td>2011</td>\n",
       "      <td>0.000000e+00</td>\n",
       "      <td>0.000000e+00</td>\n",
       "      <td>5</td>\n",
       "      <td>4</td>\n",
       "      <td>1</td>\n",
       "    </tr>\n",
       "    <tr>\n",
       "      <th>3794</th>\n",
       "      <td>58253</td>\n",
       "      <td>tt1588335</td>\n",
       "      <td>0.183134</td>\n",
       "      <td>0</td>\n",
       "      <td>0</td>\n",
       "      <td>Toi, moi, les autres</td>\n",
       "      <td>LeÃ¯la Bekhti|Benjamin Siksou|CÃ©cile Cassel|C...</td>\n",
       "      <td>Audrey Estrougo</td>\n",
       "      <td>0</td>\n",
       "      <td>Music|Romance</td>\n",
       "      <td>17</td>\n",
       "      <td>5.2</td>\n",
       "      <td>2011</td>\n",
       "      <td>0.000000e+00</td>\n",
       "      <td>0.000000e+00</td>\n",
       "      <td>5</td>\n",
       "      <td>2</td>\n",
       "      <td>1</td>\n",
       "    </tr>\n",
       "    <tr>\n",
       "      <th>3795</th>\n",
       "      <td>47320</td>\n",
       "      <td>tt1315350</td>\n",
       "      <td>0.028666</td>\n",
       "      <td>0</td>\n",
       "      <td>0</td>\n",
       "      <td>Cherry</td>\n",
       "      <td>Kyle Gallner|Laura Allen|Britt Robertson|Esai ...</td>\n",
       "      <td>Jeffrey Fine</td>\n",
       "      <td>99</td>\n",
       "      <td>Comedy|Drama|Romance</td>\n",
       "      <td>19</td>\n",
       "      <td>6.6</td>\n",
       "      <td>2011</td>\n",
       "      <td>0.000000e+00</td>\n",
       "      <td>0.000000e+00</td>\n",
       "      <td>5</td>\n",
       "      <td>3</td>\n",
       "      <td>1</td>\n",
       "    </tr>\n",
       "    <tr>\n",
       "      <th>3796</th>\n",
       "      <td>63579</td>\n",
       "      <td>tt1814836</td>\n",
       "      <td>0.181614</td>\n",
       "      <td>0</td>\n",
       "      <td>0</td>\n",
       "      <td>Project Nim</td>\n",
       "      <td>Bob Angelini|Bern Cohen|Reagan Leonard</td>\n",
       "      <td>James Marsh</td>\n",
       "      <td>93</td>\n",
       "      <td>Documentary|Foreign</td>\n",
       "      <td>19</td>\n",
       "      <td>7.2</td>\n",
       "      <td>2011</td>\n",
       "      <td>0.000000e+00</td>\n",
       "      <td>0.000000e+00</td>\n",
       "      <td>3</td>\n",
       "      <td>2</td>\n",
       "      <td>1</td>\n",
       "    </tr>\n",
       "    <tr>\n",
       "      <th>10865</th>\n",
       "      <td>22293</td>\n",
       "      <td>tt0060666</td>\n",
       "      <td>0.035919</td>\n",
       "      <td>19000</td>\n",
       "      <td>0</td>\n",
       "      <td>Manos: The Hands of Fate</td>\n",
       "      <td>Harold P. Warren|Tom Neyman|John Reynolds|Dian...</td>\n",
       "      <td>Harold P. Warren</td>\n",
       "      <td>74</td>\n",
       "      <td>Horror</td>\n",
       "      <td>15</td>\n",
       "      <td>1.5</td>\n",
       "      <td>1966</td>\n",
       "      <td>1.276423e+05</td>\n",
       "      <td>0.000000e+00</td>\n",
       "      <td>5</td>\n",
       "      <td>1</td>\n",
       "      <td>1</td>\n",
       "    </tr>\n",
       "  </tbody>\n",
       "</table>\n",
       "<p>10726 rows × 18 columns</p>\n",
       "</div>"
      ],
      "text/plain": [
       "           id    imdb_id  popularity   budget   revenue  \\\n",
       "7751    36108  tt0973844    0.149692        0         0   \n",
       "919    193726  tt2926810    0.453382        0      7171   \n",
       "5769    87436  tt1935896    0.313754        0     21660   \n",
       "5535    87818  tt1333125    1.020237  6000000  32438988   \n",
       "310    306964  tt4163020    0.393642        0         0   \n",
       "...       ...        ...         ...      ...       ...   \n",
       "3793    59726  tt1296899    0.103268        0         0   \n",
       "3794    58253  tt1588335    0.183134        0         0   \n",
       "3795    47320  tt1315350    0.028666        0         0   \n",
       "3796    63579  tt1814836    0.181614        0         0   \n",
       "10865   22293  tt0060666    0.035919    19000         0   \n",
       "\n",
       "                                          original_title  \\\n",
       "7751   Chacun son cinema ou Ce petit coup au coeur qu...   \n",
       "919                                      ABCs of Death 2   \n",
       "5769                                   The ABCs of Death   \n",
       "5535                                            Movie 43   \n",
       "310                                   Tales of Halloween   \n",
       "...                                                  ...   \n",
       "3793                                           Wake Wood   \n",
       "3794                                Toi, moi, les autres   \n",
       "3795                                              Cherry   \n",
       "3796                                         Project Nim   \n",
       "10865                           Manos: The Hands of Fate   \n",
       "\n",
       "                                                    cast  \\\n",
       "7751   Isabelle Adjani|Pegah Ahangarani|Anouk AimÃ©e|...   \n",
       "919    Eric Jacobus|Julian Barratt|Ian Virgo|Miguel Ã...   \n",
       "5769   Ingrid BolsÃ¸ Berdal|Erik Aude|IvÃ¡n GonzÃ¡lez...   \n",
       "5535   Dennis Quaid|Greg Kinnear|Common|Charlie Saxto...   \n",
       "310    Keir Gilchrist|Pollyanna McIntosh|Samuel Witwe...   \n",
       "...                                                  ...   \n",
       "3793   Aidan Gillen|Eva Birthistle|Timothy Spall|Ella...   \n",
       "3794   LeÃ¯la Bekhti|Benjamin Siksou|CÃ©cile Cassel|C...   \n",
       "3795   Kyle Gallner|Laura Allen|Britt Robertson|Esai ...   \n",
       "3796              Bob Angelini|Bern Cohen|Reagan Leonard   \n",
       "10865  Harold P. Warren|Tom Neyman|John Reynolds|Dian...   \n",
       "\n",
       "                                                director  runtime  \\\n",
       "7751   Theo Angelopoulos|Olivier Assayas|Bille August...      100   \n",
       "919    Chris Nash|Rodney Ascher|Bill Plympton|Erik Ma...      125   \n",
       "5769   Angela Bettis|HÃ©lÃ¨ne Cattet|Ernesto DÃ­az Es...      123   \n",
       "5535   Steven Brill|Elizabeth Banks|Steve Carr|Rusty ...       90   \n",
       "310    Darren Lynn Bousman|Axelle Carolyn|Adam Gieras...       90   \n",
       "...                                                  ...      ...   \n",
       "3793                                       David Keating       90   \n",
       "3794                                     Audrey Estrougo        0   \n",
       "3795                                        Jeffrey Fine       99   \n",
       "3796                                         James Marsh       93   \n",
       "10865                                   Harold P. Warren       74   \n",
       "\n",
       "                              genres  vote_count  vote_average  release_year  \\\n",
       "7751                    Comedy|Drama          10           7.4          2007   \n",
       "919                           Horror          44           5.4          2014   \n",
       "5769                          Horror          98           4.5          2013   \n",
       "5535                          Comedy         564           4.4          2013   \n",
       "310                           Horror          74           5.3          2015   \n",
       "...                              ...         ...           ...           ...   \n",
       "3793   Drama|Horror|Thriller|Foreign          15           6.3          2011   \n",
       "3794                   Music|Romance          17           5.2          2011   \n",
       "3795            Comedy|Drama|Romance          19           6.6          2011   \n",
       "3796             Documentary|Foreign          19           7.2          2011   \n",
       "10865                         Horror          15           1.5          1966   \n",
       "\n",
       "         budget_adj   revenue_adj  number_of_cast  genre_count  \\\n",
       "7751   0.000000e+00  0.000000e+00               5            2   \n",
       "919    0.000000e+00  6.605144e+03               5            1   \n",
       "5769   0.000000e+00  2.027448e+04               5            1   \n",
       "5535   5.616200e+06  3.036397e+07               5            1   \n",
       "310    0.000000e+00  0.000000e+00               5            1   \n",
       "...             ...           ...             ...          ...   \n",
       "3793   0.000000e+00  0.000000e+00               5            4   \n",
       "3794   0.000000e+00  0.000000e+00               5            2   \n",
       "3795   0.000000e+00  0.000000e+00               5            3   \n",
       "3796   0.000000e+00  0.000000e+00               3            2   \n",
       "10865  1.276423e+05  0.000000e+00               5            1   \n",
       "\n",
       "       number_of_director  \n",
       "7751                   36  \n",
       "919                    30  \n",
       "5769                   27  \n",
       "5535                   12  \n",
       "310                    11  \n",
       "...                   ...  \n",
       "3793                    1  \n",
       "3794                    1  \n",
       "3795                    1  \n",
       "3796                    1  \n",
       "10865                   1  \n",
       "\n",
       "[10726 rows x 18 columns]"
      ]
     },
     "execution_count": 33,
     "metadata": {},
     "output_type": "execute_result"
    }
   ],
   "source": [
    "df_cleaning.sort_values('number_of_director', ascending = False)"
   ]
  },
  {
   "cell_type": "code",
   "execution_count": 34,
   "metadata": {},
   "outputs": [
    {
     "data": {
      "text/html": [
       "<div>\n",
       "<style scoped>\n",
       "    .dataframe tbody tr th:only-of-type {\n",
       "        vertical-align: middle;\n",
       "    }\n",
       "\n",
       "    .dataframe tbody tr th {\n",
       "        vertical-align: top;\n",
       "    }\n",
       "\n",
       "    .dataframe thead th {\n",
       "        text-align: right;\n",
       "    }\n",
       "</style>\n",
       "<table border=\"1\" class=\"dataframe\">\n",
       "  <thead>\n",
       "    <tr style=\"text-align: right;\">\n",
       "      <th></th>\n",
       "      <th>id</th>\n",
       "      <th>imdb_id</th>\n",
       "      <th>popularity</th>\n",
       "      <th>budget</th>\n",
       "      <th>revenue</th>\n",
       "      <th>original_title</th>\n",
       "      <th>cast</th>\n",
       "      <th>director</th>\n",
       "      <th>runtime</th>\n",
       "      <th>genres</th>\n",
       "      <th>vote_count</th>\n",
       "      <th>vote_average</th>\n",
       "      <th>release_year</th>\n",
       "      <th>budget_adj</th>\n",
       "      <th>revenue_adj</th>\n",
       "      <th>number_of_cast</th>\n",
       "      <th>genre_count</th>\n",
       "      <th>number_of_director</th>\n",
       "    </tr>\n",
       "  </thead>\n",
       "  <tbody>\n",
       "    <tr>\n",
       "      <th>0</th>\n",
       "      <td>135397</td>\n",
       "      <td>tt0369610</td>\n",
       "      <td>32.985763</td>\n",
       "      <td>150000000</td>\n",
       "      <td>1513528810</td>\n",
       "      <td>Jurassic World</td>\n",
       "      <td>Chris Pratt|Bryce Dallas Howard|Irrfan Khan|Vi...</td>\n",
       "      <td>Colin Trevorrow</td>\n",
       "      <td>124</td>\n",
       "      <td>Action|Adventure|Science Fiction|Thriller</td>\n",
       "      <td>5562</td>\n",
       "      <td>6.5</td>\n",
       "      <td>2015</td>\n",
       "      <td>1.379999e+08</td>\n",
       "      <td>1.392446e+09</td>\n",
       "      <td>5</td>\n",
       "      <td>4</td>\n",
       "      <td>1</td>\n",
       "    </tr>\n",
       "  </tbody>\n",
       "</table>\n",
       "</div>"
      ],
      "text/plain": [
       "       id    imdb_id  popularity     budget     revenue  original_title  \\\n",
       "0  135397  tt0369610   32.985763  150000000  1513528810  Jurassic World   \n",
       "\n",
       "                                                cast         director  \\\n",
       "0  Chris Pratt|Bryce Dallas Howard|Irrfan Khan|Vi...  Colin Trevorrow   \n",
       "\n",
       "   runtime                                     genres  vote_count  \\\n",
       "0      124  Action|Adventure|Science Fiction|Thriller        5562   \n",
       "\n",
       "   vote_average  release_year    budget_adj   revenue_adj  number_of_cast  \\\n",
       "0           6.5          2015  1.379999e+08  1.392446e+09               5   \n",
       "\n",
       "   genre_count  number_of_director  \n",
       "0            4                   1  "
      ]
     },
     "execution_count": 34,
     "metadata": {},
     "output_type": "execute_result"
    }
   ],
   "source": [
    "df_cleaning.head(1)"
   ]
  },
  {
   "cell_type": "code",
   "execution_count": 35,
   "metadata": {},
   "outputs": [],
   "source": [
    "df_cleaning.to_csv('cleaned_movie_data_v1.csv', index = False)"
   ]
  },
  {
   "cell_type": "code",
   "execution_count": 36,
   "metadata": {},
   "outputs": [
    {
     "data": {
      "text/plain": [
       "2020"
      ]
     },
     "execution_count": 36,
     "metadata": {},
     "output_type": "execute_result"
    }
   ],
   "source": [
    "df_cleaning['genres'].nunique()"
   ]
  },
  {
   "cell_type": "code",
   "execution_count": 37,
   "metadata": {},
   "outputs": [
    {
     "data": {
      "text/plain": [
       "id                    0\n",
       "imdb_id               0\n",
       "popularity            0\n",
       "budget                0\n",
       "revenue               0\n",
       "original_title        0\n",
       "cast                  0\n",
       "director              0\n",
       "runtime               0\n",
       "genres                0\n",
       "vote_count            0\n",
       "vote_average          0\n",
       "release_year          0\n",
       "budget_adj            0\n",
       "revenue_adj           0\n",
       "number_of_cast        0\n",
       "genre_count           0\n",
       "number_of_director    0\n",
       "dtype: int64"
      ]
     },
     "execution_count": 37,
     "metadata": {},
     "output_type": "execute_result"
    }
   ],
   "source": [
    "df_cleaning.isnull().sum()"
   ]
  },
  {
   "cell_type": "code",
   "execution_count": 38,
   "metadata": {},
   "outputs": [
    {
     "data": {
      "text/plain": [
       "(10726, 18)"
      ]
     },
     "execution_count": 38,
     "metadata": {},
     "output_type": "execute_result"
    }
   ],
   "source": [
    "df_cleaning.shape"
   ]
  },
  {
   "cell_type": "code",
   "execution_count": 39,
   "metadata": {},
   "outputs": [
    {
     "data": {
      "text/plain": [
       "count    1.072600e+04\n",
       "mean     5.203047e+07\n",
       "std      1.454547e+08\n",
       "min      0.000000e+00\n",
       "25%      0.000000e+00\n",
       "50%      0.000000e+00\n",
       "75%      3.475061e+07\n",
       "max      2.827124e+09\n",
       "Name: revenue_adj, dtype: float64"
      ]
     },
     "execution_count": 39,
     "metadata": {},
     "output_type": "execute_result"
    }
   ],
   "source": [
    "df_cleaning['revenue_adj'].describe()"
   ]
  },
  {
   "cell_type": "code",
   "execution_count": 40,
   "metadata": {},
   "outputs": [
    {
     "data": {
      "text/plain": [
       "(10726, 18)"
      ]
     },
     "execution_count": 40,
     "metadata": {},
     "output_type": "execute_result"
    }
   ],
   "source": [
    "df_cleaning.shape"
   ]
  },
  {
   "cell_type": "markdown",
   "metadata": {},
   "source": [
    "<a id='eda'></a>\n",
    "## Exploratory Data Analysis\n",
    "\n",
    "> **Tip**: Now that you've trimmed and cleaned your data, you're ready to move on to exploration. Compute statistics and create visualizations with the goal of addressing the research questions that you posed in the Introduction section. It is recommended that you be systematic with your approach. Look at one variable at a time, and then follow it up by looking at relationships between variables.\n",
    "\n",
    "### Research Question 1 (What kinds of properties are associated with movies that have high revenues (Focus is on adjusted revenue))"
   ]
  },
  {
   "cell_type": "code",
   "execution_count": 41,
   "metadata": {},
   "outputs": [],
   "source": [
    "# Creating a copy of dataset for analysis\n",
    "\n",
    "\n",
    "df_1 = df_cleaning.copy()\n",
    "\n",
    "df_1.shape\n",
    "\n",
    "#dropping all movies with 0 revenue_adj\n",
    "\n",
    "df_1 = df_1.query('revenue_adj > 0')\n",
    "\n"
   ]
  },
  {
   "cell_type": "code",
   "execution_count": 42,
   "metadata": {},
   "outputs": [
    {
     "data": {
      "text/plain": [
       "id                    0\n",
       "imdb_id               0\n",
       "popularity            0\n",
       "budget                0\n",
       "revenue               0\n",
       "original_title        0\n",
       "cast                  0\n",
       "director              0\n",
       "runtime               0\n",
       "genres                0\n",
       "vote_count            0\n",
       "vote_average          0\n",
       "release_year          0\n",
       "budget_adj            0\n",
       "revenue_adj           0\n",
       "number_of_cast        0\n",
       "genre_count           0\n",
       "number_of_director    0\n",
       "dtype: int64"
      ]
     },
     "execution_count": 42,
     "metadata": {},
     "output_type": "execute_result"
    }
   ],
   "source": [
    "df_1.isnull().sum()"
   ]
  },
  {
   "cell_type": "code",
   "execution_count": 43,
   "metadata": {},
   "outputs": [
    {
     "data": {
      "text/plain": [
       "id                      int64\n",
       "imdb_id                object\n",
       "popularity            float64\n",
       "budget                  int64\n",
       "revenue                 int64\n",
       "original_title         object\n",
       "cast                   object\n",
       "director               object\n",
       "runtime                 int64\n",
       "genres                 object\n",
       "vote_count              int64\n",
       "vote_average          float64\n",
       "release_year            int64\n",
       "budget_adj            float64\n",
       "revenue_adj           float64\n",
       "number_of_cast          int64\n",
       "genre_count             int64\n",
       "number_of_director      int64\n",
       "dtype: object"
      ]
     },
     "execution_count": 43,
     "metadata": {},
     "output_type": "execute_result"
    }
   ],
   "source": [
    "df_1.dtypes"
   ]
  },
  {
   "cell_type": "code",
   "execution_count": 44,
   "metadata": {},
   "outputs": [
    {
     "data": {
      "text/plain": [
       "count    4.843000e+03\n",
       "mean     1.152341e+08\n",
       "std      1.989424e+08\n",
       "min      2.370705e+00\n",
       "25%      1.048057e+07\n",
       "50%      4.402879e+07\n",
       "75%      1.317599e+08\n",
       "max      2.827124e+09\n",
       "Name: revenue_adj, dtype: float64"
      ]
     },
     "execution_count": 44,
     "metadata": {},
     "output_type": "execute_result"
    }
   ],
   "source": [
    "#Checking the characteristics of the adjusted revenue\n",
    "\n",
    "df_1['revenue_adj'].describe()"
   ]
  },
  {
   "cell_type": "markdown",
   "metadata": {},
   "source": [
    "# Plots 1  Explanation\n",
    "The plot below shows investigates if there is a relationship between revenue and the number of cast\n",
    "\n",
    "Although, an histogram view shows that most of the movie has 5 casts. It is clear that for a movie to perform well on productivity it must have 5 casts as cast number below 5 are not performing well\n"
   ]
  },
  {
   "cell_type": "code",
   "execution_count": 45,
   "metadata": {},
   "outputs": [
    {
     "data": {
      "text/plain": [
       "Text(0.5, 1.0, 'Realtionship Between revenue and number of cast')"
      ]
     },
     "execution_count": 45,
     "metadata": {},
     "output_type": "execute_result"
    },
    {
     "data": {
      "image/png": "[encoded data removed]",
      "text/plain": [
       "<Figure size 432x288 with 1 Axes>"
      ]
     },
     "metadata": {
      "needs_background": "light"
     },
     "output_type": "display_data"
    }
   ],
   "source": [
    "#checking if the number of cast influences the revenue of the movie\n",
    "\n",
    "df_1.plot(x=\"revenue_adj\", y=\"number_of_cast\", kind=\"scatter\");\n",
    "plt.title('Realtionship Between revenue and number of cast')"
   ]
  },
  {
   "cell_type": "code",
   "execution_count": 50,
   "metadata": {},
   "outputs": [
    {
     "data": {
      "text/plain": [
       "Text(0.5, 1.0, 'Number of cast')"
      ]
     },
     "execution_count": 50,
     "metadata": {},
     "output_type": "execute_result"
    },
    {
     "data": {
      "image/png": "[encoded data removed]",
      "text/plain": [
       "<Figure size 432x288 with 1 Axes>"
      ]
     },
     "metadata": {
      "needs_background": "light"
     },
     "output_type": "display_data"
    }
   ],
   "source": [
    "df_1['number_of_cast'].plot(kind='hist');\n",
    "plt.xlabel('budget')\n",
    "plt.title('Number of cast')"
   ]
  },
  {
   "cell_type": "code",
   "execution_count": 47,
   "metadata": {},
   "outputs": [
    {
     "data": {
      "text/plain": [
       "count    4843.000000\n",
       "mean        4.972744\n",
       "std         0.252375\n",
       "min         1.000000\n",
       "25%         5.000000\n",
       "50%         5.000000\n",
       "75%         5.000000\n",
       "max         5.000000\n",
       "Name: number_of_cast, dtype: float64"
      ]
     },
     "execution_count": 47,
     "metadata": {},
     "output_type": "execute_result"
    }
   ],
   "source": [
    "df_1['number_of_cast'].describe()"
   ]
  },
  {
   "cell_type": "markdown",
   "metadata": {},
   "source": [
    "# Plots 2  Explanation\n",
    "The plot below shows investigates if there is a relationship between revenue and the number of directors\n",
    "\n",
    "Although, over 75% of the movies have just one director. It is safe to conclude that number of directors doesn't matter when it comes to how much a movie makes"
   ]
  },
  {
   "cell_type": "code",
   "execution_count": 48,
   "metadata": {},
   "outputs": [
    {
     "data": {
      "image/png": "[encoded data removed]",
      "text/plain": [
       "<Figure size 432x288 with 1 Axes>"
      ]
     },
     "metadata": {
      "needs_background": "light"
     },
     "output_type": "display_data"
    }
   ],
   "source": [
    "#checking if the number of directors influences the the revenue of the movie\n",
    "\n",
    "df_1.plot(x=\"revenue_adj\", y=\"number_of_director\", kind=\"scatter\")\n",
    "plt.title('Relationship between number of directors and revenue');"
   ]
  },
  {
   "cell_type": "code",
   "execution_count": 49,
   "metadata": {},
   "outputs": [
    {
     "data": {
      "image/png": "[encoded data removed]",
      "text/plain": [
       "<Figure size 432x288 with 1 Axes>"
      ]
     },
     "metadata": {
      "needs_background": "light"
     },
     "output_type": "display_data"
    }
   ],
   "source": [
    "df_1['number_of_director'].plot(kind='hist')\n",
    "plt.xlabel('budget')\n",
    "plt.title('Number of directors');"
   ]
  },
  {
   "cell_type": "code",
   "execution_count": 46,
   "metadata": {},
   "outputs": [
    {
     "data": {
      "text/plain": [
       "count    4843.000000\n",
       "mean        1.091679\n",
       "std         0.706565\n",
       "min         1.000000\n",
       "25%         1.000000\n",
       "50%         1.000000\n",
       "75%         1.000000\n",
       "max        30.000000\n",
       "Name: number_of_director, dtype: float64"
      ]
     },
     "execution_count": 46,
     "metadata": {},
     "output_type": "execute_result"
    }
   ],
   "source": [
    "df_1['number_of_director'].describe()"
   ]
  },
  {
   "cell_type": "markdown",
   "metadata": {},
   "source": [
    "# Plots 3  Explanation\n",
    "The plot below shows investigates if there is a relationship between revenue and the number of genres the movie is classified in\n",
    "\n",
    "Movies with 3 genre classifications seem to be the have an edge in profitbaility"
   ]
  },
  {
   "cell_type": "code",
   "execution_count": 51,
   "metadata": {},
   "outputs": [
    {
     "data": {
      "image/png": "[encoded data removed]",
      "text/plain": [
       "<Figure size 432x288 with 1 Axes>"
      ]
     },
     "metadata": {
      "needs_background": "light"
     },
     "output_type": "display_data"
    }
   ],
   "source": [
    "#checking if the number of genres the movie is classified under influences  the revenue of the movie\n",
    "\n",
    "df_1.plot(x=\"revenue_adj\", y=\"genre_count\", kind=\"scatter\")\n",
    "plt.title('Genre_count/Revenue');"
   ]
  },
  {
   "cell_type": "code",
   "execution_count": 52,
   "metadata": {},
   "outputs": [
    {
     "data": {
      "image/png": "[encoded data removed]",
      "text/plain": [
       "<Figure size 360x360 with 1 Axes>"
      ]
     },
     "metadata": {
      "needs_background": "light"
     },
     "output_type": "display_data"
    }
   ],
   "source": [
    "df_1['genre_count'].plot(kind='hist', figsize = (5,5));\n",
    "plt.xlabel('budget')\n",
    "plt.title(\"Number of Genre Classifications\");"
   ]
  },
  {
   "cell_type": "markdown",
   "metadata": {},
   "source": [
    "# Plots 4  Explanation\n",
    "The plot below shows investigates if there is a relationship between revenue and the budget of the movie\n",
    "\n",
    "There is no correlation between the budget and the revenue"
   ]
  },
  {
   "cell_type": "code",
   "execution_count": 53,
   "metadata": {
    "scrolled": false
   },
   "outputs": [
    {
     "data": {
      "image/png": "[encoded data removed]",
      "text/plain": [
       "<Figure size 432x288 with 1 Axes>"
      ]
     },
     "metadata": {
      "needs_background": "light"
     },
     "output_type": "display_data"
    }
   ],
   "source": [
    "#checking if the adjusted revenue is related to the budget for a particular movie\n",
    "\n",
    "df_1.plot(x=\"budget_adj\", y=\"revenue_adj\", kind=\"scatter\")\n",
    "plt.title('revenue/budget');"
   ]
  },
  {
   "cell_type": "markdown",
   "metadata": {},
   "source": [
    "This plot shows no relationship between revenue and budget"
   ]
  },
  {
   "cell_type": "code",
   "execution_count": 55,
   "metadata": {},
   "outputs": [
    {
     "data": {
      "image/png": "[encoded data removed]",
      "text/plain": [
       "<Figure size 432x288 with 1 Axes>"
      ]
     },
     "metadata": {
      "needs_background": "light"
     },
     "output_type": "display_data"
    }
   ],
   "source": [
    "df_1['budget_adj'].plot(kind='hist');\n",
    "plt.xlabel('budget')\n",
    "plt.title('Movie budget');"
   ]
  },
  {
   "cell_type": "code",
   "execution_count": 39,
   "metadata": {},
   "outputs": [
    {
     "data": {
      "text/plain": [
       "count    4.843000e+03\n",
       "mean     3.520258e+07\n",
       "std      4.377308e+07\n",
       "min      0.000000e+00\n",
       "25%      2.334746e+06\n",
       "50%      2.032801e+07\n",
       "75%      4.973958e+07\n",
       "max      4.250000e+08\n",
       "Name: budget_adj, dtype: float64"
      ]
     },
     "execution_count": 39,
     "metadata": {},
     "output_type": "execute_result"
    }
   ],
   "source": [
    "df_1['budget_adj'].describe()"
   ]
  },
  {
   "cell_type": "markdown",
   "metadata": {},
   "source": [
    "# Plots 5  Explanation\n",
    "The plot below shows investigates if there is a relationship between revenue and the popularity of the movie\n",
    "\n",
    "There is no correlation between the popularity and the revenue"
   ]
  },
  {
   "cell_type": "code",
   "execution_count": 56,
   "metadata": {
    "scrolled": true
   },
   "outputs": [
    {
     "data": {
      "image/png": "[encoded data removed]",
      "text/plain": [
       "<Figure size 432x288 with 1 Axes>"
      ]
     },
     "metadata": {
      "needs_background": "light"
     },
     "output_type": "display_data"
    }
   ],
   "source": [
    "#checking if the popularity of a movie is associated with the \n",
    "\n",
    "df_1.plot(x=\"revenue_adj\", y=\"popularity\", kind=\"scatter\")\n",
    "plt.title('Revenue/Popularity');"
   ]
  },
  {
   "cell_type": "markdown",
   "metadata": {},
   "source": [
    "*this graphs shows no relationship between Popularity and revenue*"
   ]
  },
  {
   "cell_type": "code",
   "execution_count": 58,
   "metadata": {
    "scrolled": true
   },
   "outputs": [
    {
     "data": {
      "image/png": "[encoded data removed]",
      "text/plain": [
       "<Figure size 432x288 with 1 Axes>"
      ]
     },
     "metadata": {
      "needs_background": "light"
     },
     "output_type": "display_data"
    }
   ],
   "source": [
    "df_1['popularity'].plot(kind='hist');\n",
    "plt.xlabel('budget')\n",
    "plt.title('Movie popularity');"
   ]
  },
  {
   "cell_type": "code",
   "execution_count": 53,
   "metadata": {},
   "outputs": [
    {
     "data": {
      "text/plain": [
       "count    4843.000000\n",
       "mean        1.046315\n",
       "std         1.357222\n",
       "min         0.001117\n",
       "25%         0.388227\n",
       "50%         0.680803\n",
       "75%         1.210533\n",
       "max        32.985763\n",
       "Name: popularity, dtype: float64"
      ]
     },
     "execution_count": 53,
     "metadata": {},
     "output_type": "execute_result"
    }
   ],
   "source": [
    "df_1['popularity'].describe()"
   ]
  },
  {
   "cell_type": "markdown",
   "metadata": {},
   "source": [
    "# Plots 6  Explanation\n",
    "The plot below shows investigates if there is a relationship between revenue and the vote of the movie\n",
    "\n",
    "The more the votes, the more the revenue from the movie"
   ]
  },
  {
   "cell_type": "code",
   "execution_count": 59,
   "metadata": {
    "scrolled": false
   },
   "outputs": [
    {
     "data": {
      "image/png": "[encoded data removed]",
      "text/plain": [
       "<Figure size 432x288 with 1 Axes>"
      ]
     },
     "metadata": {
      "needs_background": "light"
     },
     "output_type": "display_data"
    }
   ],
   "source": [
    "#checking if the average votes is related to the revenue generated from a particular movie\n",
    "\n",
    "df_1.plot(x=\"revenue_adj\", y=\"vote_average\", kind=\"scatter\")\n",
    "plt.title('Revenue_adj / Average vote');"
   ]
  },
  {
   "cell_type": "markdown",
   "metadata": {},
   "source": [
    "*This graphs shows no relationsip between Revenue and vote average*"
   ]
  },
  {
   "cell_type": "code",
   "execution_count": 64,
   "metadata": {},
   "outputs": [
    {
     "data": {
      "image/png": "[encoded data removed]",
      "text/plain": [
       "<Figure size 432x288 with 1 Axes>"
      ]
     },
     "metadata": {
      "needs_background": "light"
     },
     "output_type": "display_data"
    }
   ],
   "source": [
    "df_1['vote_average'].plot(kind='hist');\n",
    "plt.xlabel('Popularity')\n",
    "plt.title('Movie Average Vote');"
   ]
  },
  {
   "cell_type": "code",
   "execution_count": null,
   "metadata": {},
   "outputs": [],
   "source": []
  },
  {
   "cell_type": "markdown",
   "metadata": {},
   "source": [
    "# Plots 7  Explanation\n",
    "The plot below shows investigates if there is a relationship between revenue and net revenue of the movies\n",
    "\n",
    "Both measures show high correlation"
   ]
  },
  {
   "cell_type": "code",
   "execution_count": 65,
   "metadata": {},
   "outputs": [],
   "source": [
    "df_1['net_profit'] = df_1['revenue_adj'] - df_1['budget_adj']"
   ]
  },
  {
   "cell_type": "code",
   "execution_count": 66,
   "metadata": {},
   "outputs": [
    {
     "data": {
      "text/html": [
       "<div>\n",
       "<style scoped>\n",
       "    .dataframe tbody tr th:only-of-type {\n",
       "        vertical-align: middle;\n",
       "    }\n",
       "\n",
       "    .dataframe tbody tr th {\n",
       "        vertical-align: top;\n",
       "    }\n",
       "\n",
       "    .dataframe thead th {\n",
       "        text-align: right;\n",
       "    }\n",
       "</style>\n",
       "<table border=\"1\" class=\"dataframe\">\n",
       "  <thead>\n",
       "    <tr style=\"text-align: right;\">\n",
       "      <th></th>\n",
       "      <th>id</th>\n",
       "      <th>imdb_id</th>\n",
       "      <th>popularity</th>\n",
       "      <th>budget</th>\n",
       "      <th>revenue</th>\n",
       "      <th>original_title</th>\n",
       "      <th>cast</th>\n",
       "      <th>director</th>\n",
       "      <th>runtime</th>\n",
       "      <th>genres</th>\n",
       "      <th>vote_count</th>\n",
       "      <th>vote_average</th>\n",
       "      <th>release_year</th>\n",
       "      <th>budget_adj</th>\n",
       "      <th>revenue_adj</th>\n",
       "      <th>number_of_cast</th>\n",
       "      <th>genre_count</th>\n",
       "      <th>number_of_director</th>\n",
       "      <th>net_profit</th>\n",
       "    </tr>\n",
       "  </thead>\n",
       "  <tbody>\n",
       "    <tr>\n",
       "      <th>0</th>\n",
       "      <td>135397</td>\n",
       "      <td>tt0369610</td>\n",
       "      <td>32.985763</td>\n",
       "      <td>150000000</td>\n",
       "      <td>1513528810</td>\n",
       "      <td>Jurassic World</td>\n",
       "      <td>Chris Pratt|Bryce Dallas Howard|Irrfan Khan|Vi...</td>\n",
       "      <td>Colin Trevorrow</td>\n",
       "      <td>124</td>\n",
       "      <td>Action|Adventure|Science Fiction|Thriller</td>\n",
       "      <td>5562</td>\n",
       "      <td>6.5</td>\n",
       "      <td>2015</td>\n",
       "      <td>1.379999e+08</td>\n",
       "      <td>1.392446e+09</td>\n",
       "      <td>5</td>\n",
       "      <td>4</td>\n",
       "      <td>1</td>\n",
       "      <td>1.254446e+09</td>\n",
       "    </tr>\n",
       "  </tbody>\n",
       "</table>\n",
       "</div>"
      ],
      "text/plain": [
       "       id    imdb_id  popularity     budget     revenue  original_title  \\\n",
       "0  135397  tt0369610   32.985763  150000000  1513528810  Jurassic World   \n",
       "\n",
       "                                                cast         director  \\\n",
       "0  Chris Pratt|Bryce Dallas Howard|Irrfan Khan|Vi...  Colin Trevorrow   \n",
       "\n",
       "   runtime                                     genres  vote_count  \\\n",
       "0      124  Action|Adventure|Science Fiction|Thriller        5562   \n",
       "\n",
       "   vote_average  release_year    budget_adj   revenue_adj  number_of_cast  \\\n",
       "0           6.5          2015  1.379999e+08  1.392446e+09               5   \n",
       "\n",
       "   genre_count  number_of_director    net_profit  \n",
       "0            4                   1  1.254446e+09  "
      ]
     },
     "execution_count": 66,
     "metadata": {},
     "output_type": "execute_result"
    }
   ],
   "source": [
    "df_1.head(1)"
   ]
  },
  {
   "cell_type": "code",
   "execution_count": 98,
   "metadata": {
    "scrolled": true
   },
   "outputs": [
    {
     "data": {
      "text/plain": [
       "Text(0.5, 1.0, 'Fequency of Net Profit')"
      ]
     },
     "execution_count": 98,
     "metadata": {},
     "output_type": "execute_result"
    },
    {
     "data": {
      "image/png": "[encoded data removed]",
      "text/plain": [
       "<Figure size 432x288 with 1 Axes>"
      ]
     },
     "metadata": {
      "needs_background": "light"
     },
     "output_type": "display_data"
    }
   ],
   "source": [
    "df_1['net_profit'].plot(kind='hist');\n",
    "plt.xlabel('budget');\n",
    "plt.title('Fequency of Net Profit')"
   ]
  },
  {
   "cell_type": "code",
   "execution_count": 69,
   "metadata": {
    "scrolled": true
   },
   "outputs": [
    {
     "data": {
      "image/png": "[encoded data removed]",
      "text/plain": [
       "<Figure size 432x288 with 1 Axes>"
      ]
     },
     "metadata": {
      "needs_background": "light"
     },
     "output_type": "display_data"
    }
   ],
   "source": [
    "#checking if the net_profit is related to the revenue generated from a particular movie\n",
    "\n",
    "df_1.plot(x=\"revenue_adj\", y=\"net_profit\", kind=\"scatter\")\n",
    "plt.title('Net profit / Revenue_adj diagram');"
   ]
  },
  {
   "cell_type": "markdown",
   "metadata": {},
   "source": [
    "*This scatter plot shows there's a relationship between net profit and revenue_adj.*"
   ]
  },
  {
   "cell_type": "markdown",
   "metadata": {},
   "source": [
    "<a id='eda'></a>\n",
    "## Findings Summary\n",
    "\n",
    "The following characteristics of movies seem to have an impact on the revenue of the movie\n",
    "\n",
    "1. Number of casts. The preferred been 5 casts for the movie\n",
    "2. The number of genre the movie is classed under\n",
    "3. The votes of the movie\n"
   ]
  },
  {
   "cell_type": "markdown",
   "metadata": {},
   "source": [
    "### Research Question 2  (Which genres are most popular in the last 5 years? )"
   ]
  },
  {
   "cell_type": "code",
   "execution_count": 70,
   "metadata": {},
   "outputs": [],
   "source": [
    "# Creating a copy of dataset for analysis\n",
    "\n",
    "import numpy as np\n",
    "\n",
    "df_2 = df_cleaning.copy()\n"
   ]
  },
  {
   "cell_type": "code",
   "execution_count": 71,
   "metadata": {},
   "outputs": [],
   "source": [
    "#creating duplicates of the dataframe to enable them splitting of the genres column  \n",
    "df_3 = df_2.query('genre_count == 1')\n",
    "df_4 = df_2.query('genre_count == 2')\n",
    "df_5 = df_2.query('genre_count == 3')\n",
    "df_6 = df_2.query('genre_count == 4')\n",
    "df_7 = df_2.query('genre_count == 5')"
   ]
  },
  {
   "cell_type": "code",
   "execution_count": 72,
   "metadata": {},
   "outputs": [
    {
     "name": "stderr",
     "output_type": "stream",
     "text": [
      "C:\\Users\\AJI\\AppData\\Local\\Temp\\ipykernel_16820\\1731239007.py:5: SettingWithCopyWarning: \n",
      "A value is trying to be set on a copy of a slice from a DataFrame.\n",
      "Try using .loc[row_indexer,col_indexer] = value instead\n",
      "\n",
      "See the caveats in the documentation: https://pandas.pydata.org/pandas-docs/stable/user_guide/indexing.html#returning-a-view-versus-a-copy\n",
      "  df_3[split_columns] = df_3[split_columns].apply(lambda x: x.split('|')[0])\n",
      "C:\\Users\\AJI\\AppData\\Local\\Temp\\ipykernel_16820\\1731239007.py:6: SettingWithCopyWarning: \n",
      "A value is trying to be set on a copy of a slice from a DataFrame.\n",
      "Try using .loc[row_indexer,col_indexer] = value instead\n",
      "\n",
      "See the caveats in the documentation: https://pandas.pydata.org/pandas-docs/stable/user_guide/indexing.html#returning-a-view-versus-a-copy\n",
      "  df_4[split_columns] = df_4[split_columns].apply(lambda x: x.split('|')[1])\n",
      "C:\\Users\\AJI\\AppData\\Local\\Temp\\ipykernel_16820\\1731239007.py:7: SettingWithCopyWarning: \n",
      "A value is trying to be set on a copy of a slice from a DataFrame.\n",
      "Try using .loc[row_indexer,col_indexer] = value instead\n",
      "\n",
      "See the caveats in the documentation: https://pandas.pydata.org/pandas-docs/stable/user_guide/indexing.html#returning-a-view-versus-a-copy\n",
      "  df_5[split_columns] = df_5[split_columns].apply(lambda x: x.split('|')[2])\n",
      "C:\\Users\\AJI\\AppData\\Local\\Temp\\ipykernel_16820\\1731239007.py:8: SettingWithCopyWarning: \n",
      "A value is trying to be set on a copy of a slice from a DataFrame.\n",
      "Try using .loc[row_indexer,col_indexer] = value instead\n",
      "\n",
      "See the caveats in the documentation: https://pandas.pydata.org/pandas-docs/stable/user_guide/indexing.html#returning-a-view-versus-a-copy\n",
      "  df_6[split_columns] = df_6[split_columns].apply(lambda x: x.split('|')[3])\n",
      "C:\\Users\\AJI\\AppData\\Local\\Temp\\ipykernel_16820\\1731239007.py:9: SettingWithCopyWarning: \n",
      "A value is trying to be set on a copy of a slice from a DataFrame.\n",
      "Try using .loc[row_indexer,col_indexer] = value instead\n",
      "\n",
      "See the caveats in the documentation: https://pandas.pydata.org/pandas-docs/stable/user_guide/indexing.html#returning-a-view-versus-a-copy\n",
      "  df_7[split_columns] = df_7[split_columns].apply(lambda x: x.split('|')[4])\n"
     ]
    }
   ],
   "source": [
    "#splitting the columns \n",
    "\n",
    "split_columns = 'genres'\n",
    "\n",
    "df_3[split_columns] = df_3[split_columns].apply(lambda x: x.split('|')[0])\n",
    "df_4[split_columns] = df_4[split_columns].apply(lambda x: x.split('|')[1])\n",
    "df_5[split_columns] = df_5[split_columns].apply(lambda x: x.split('|')[2])\n",
    "df_6[split_columns] = df_6[split_columns].apply(lambda x: x.split('|')[3])\n",
    "df_7[split_columns] = df_7[split_columns].apply(lambda x: x.split('|')[4])\n"
   ]
  },
  {
   "cell_type": "code",
   "execution_count": 73,
   "metadata": {},
   "outputs": [
    {
     "name": "stderr",
     "output_type": "stream",
     "text": [
      "C:\\Users\\AJI\\AppData\\Local\\Temp\\ipykernel_16820\\3182248623.py:2: FutureWarning: The frame.append method is deprecated and will be removed from pandas in a future version. Use pandas.concat instead.\n",
      "  df_8 = df_3.append([df_4, df_5, df_6, df_7], ignore_index = True)\n"
     ]
    }
   ],
   "source": [
    "#appending all dataframes\n",
    "df_8 = df_3.append([df_4, df_5, df_6, df_7], ignore_index = True)"
   ]
  },
  {
   "cell_type": "code",
   "execution_count": 74,
   "metadata": {},
   "outputs": [
    {
     "data": {
      "text/plain": [
       "(10726, 18)"
      ]
     },
     "execution_count": 74,
     "metadata": {},
     "output_type": "execute_result"
    }
   ],
   "source": [
    "df_8.shape"
   ]
  },
  {
   "cell_type": "code",
   "execution_count": 75,
   "metadata": {},
   "outputs": [
    {
     "data": {
      "text/html": [
       "<div>\n",
       "<style scoped>\n",
       "    .dataframe tbody tr th:only-of-type {\n",
       "        vertical-align: middle;\n",
       "    }\n",
       "\n",
       "    .dataframe tbody tr th {\n",
       "        vertical-align: top;\n",
       "    }\n",
       "\n",
       "    .dataframe thead th {\n",
       "        text-align: right;\n",
       "    }\n",
       "</style>\n",
       "<table border=\"1\" class=\"dataframe\">\n",
       "  <thead>\n",
       "    <tr style=\"text-align: right;\">\n",
       "      <th></th>\n",
       "      <th>id</th>\n",
       "      <th>imdb_id</th>\n",
       "      <th>popularity</th>\n",
       "      <th>budget</th>\n",
       "      <th>revenue</th>\n",
       "      <th>original_title</th>\n",
       "      <th>cast</th>\n",
       "      <th>director</th>\n",
       "      <th>runtime</th>\n",
       "      <th>genres</th>\n",
       "      <th>vote_count</th>\n",
       "      <th>vote_average</th>\n",
       "      <th>release_year</th>\n",
       "      <th>budget_adj</th>\n",
       "      <th>revenue_adj</th>\n",
       "      <th>number_of_cast</th>\n",
       "      <th>genre_count</th>\n",
       "      <th>number_of_director</th>\n",
       "    </tr>\n",
       "  </thead>\n",
       "  <tbody>\n",
       "    <tr>\n",
       "      <th>0</th>\n",
       "      <td>177677</td>\n",
       "      <td>tt2381249</td>\n",
       "      <td>4.566713</td>\n",
       "      <td>150000000</td>\n",
       "      <td>682330139</td>\n",
       "      <td>Mission: Impossible - Rogue Nation</td>\n",
       "      <td>Tom Cruise|Jeremy Renner|Simon Pegg|Rebecca Fe...</td>\n",
       "      <td>Christopher McQuarrie</td>\n",
       "      <td>131</td>\n",
       "      <td>Action</td>\n",
       "      <td>2349</td>\n",
       "      <td>7.1</td>\n",
       "      <td>2015</td>\n",
       "      <td>1.379999e+08</td>\n",
       "      <td>6.277435e+08</td>\n",
       "      <td>5</td>\n",
       "      <td>1</td>\n",
       "      <td>1</td>\n",
       "    </tr>\n",
       "  </tbody>\n",
       "</table>\n",
       "</div>"
      ],
      "text/plain": [
       "       id    imdb_id  popularity     budget    revenue  \\\n",
       "0  177677  tt2381249    4.566713  150000000  682330139   \n",
       "\n",
       "                       original_title  \\\n",
       "0  Mission: Impossible - Rogue Nation   \n",
       "\n",
       "                                                cast               director  \\\n",
       "0  Tom Cruise|Jeremy Renner|Simon Pegg|Rebecca Fe...  Christopher McQuarrie   \n",
       "\n",
       "   runtime  genres  vote_count  vote_average  release_year    budget_adj  \\\n",
       "0      131  Action        2349           7.1          2015  1.379999e+08   \n",
       "\n",
       "    revenue_adj  number_of_cast  genre_count  number_of_director  \n",
       "0  6.277435e+08               5            1                   1  "
      ]
     },
     "execution_count": 75,
     "metadata": {},
     "output_type": "execute_result"
    }
   ],
   "source": [
    "df_8.head(1)"
   ]
  },
  {
   "cell_type": "code",
   "execution_count": 76,
   "metadata": {},
   "outputs": [
    {
     "data": {
      "text/plain": [
       "array([2015, 2014, 1977, 2009, 2010, 1999, 2001, 2008, 2011, 2002, 1994,\n",
       "       2012, 2003, 1997, 2013, 1985, 2005, 2006, 2004, 1972, 1980, 2007,\n",
       "       1979, 1984, 1983, 1995, 1992, 1981, 1996, 2000, 1982, 1998, 1989,\n",
       "       1991, 1988, 1987, 1968, 1974, 1975, 1962, 1964, 1971, 1990, 1961,\n",
       "       1960, 1976, 1993, 1967, 1963, 1986, 1973, 1970, 1965, 1969, 1978,\n",
       "       1966], dtype=int64)"
      ]
     },
     "execution_count": 76,
     "metadata": {},
     "output_type": "execute_result"
    }
   ],
   "source": [
    "d = df_8['release_year'].unique()\n",
    "d"
   ]
  },
  {
   "cell_type": "code",
   "execution_count": 77,
   "metadata": {},
   "outputs": [
    {
     "data": {
      "text/plain": [
       "array(['Action', 'Comedy', 'Drama', 'Thriller', 'Horror', 'Documentary',\n",
       "       'TV Movie', 'Animation', 'Crime', 'Adventure', 'Family', 'Romance',\n",
       "       'Science Fiction', 'Music', 'Western', 'Fantasy', 'War', 'Foreign',\n",
       "       'History', 'Mystery'], dtype=object)"
      ]
     },
     "execution_count": 77,
     "metadata": {},
     "output_type": "execute_result"
    }
   ],
   "source": [
    "d = df_8['genres'].unique()\n",
    "d"
   ]
  },
  {
   "cell_type": "code",
   "execution_count": 78,
   "metadata": {},
   "outputs": [],
   "source": [
    "#creating years filter\n",
    "\n",
    "df_2015 = df_8.query('release_year == 2015')\n",
    "df_2014 = df_8.query('release_year == 2014')\n",
    "df_2013 = df_8.query('release_year == 2013')\n",
    "df_2012 = df_8.query('release_year == 2012')\n",
    "df_2011 = df_8.query('release_year == 2011')"
   ]
  },
  {
   "cell_type": "code",
   "execution_count": 79,
   "metadata": {},
   "outputs": [],
   "source": [
    "import matplotlib.pyplot as plt"
   ]
  },
  {
   "cell_type": "markdown",
   "metadata": {},
   "source": [
    "# Plots 1  Explanation\n",
    "\n",
    "In 2015, Western Genre is the most popular followed by Adventure movies"
   ]
  },
  {
   "cell_type": "code",
   "execution_count": 80,
   "metadata": {},
   "outputs": [
    {
     "data": {
      "text/plain": [
       "genres\n",
       "Action             0.828252\n",
       "Adventure          2.420430\n",
       "Animation          0.614514\n",
       "Comedy             0.736658\n",
       "Crime              1.145910\n",
       "Documentary        0.190583\n",
       "Drama              0.872940\n",
       "Family             1.111821\n",
       "Fantasy            1.708084\n",
       "History            1.666198\n",
       "Horror             0.399179\n",
       "Music              0.834990\n",
       "Mystery            1.178922\n",
       "Romance            1.099978\n",
       "Science Fiction    1.464537\n",
       "TV Movie           0.287798\n",
       "Thriller           1.925214\n",
       "War                1.022775\n",
       "Western            2.713729\n",
       "Name: popularity, dtype: float64"
      ]
     },
     "execution_count": 80,
     "metadata": {},
     "output_type": "execute_result"
    }
   ],
   "source": [
    "df_2015.groupby('genres').popularity.mean()"
   ]
  },
  {
   "cell_type": "code",
   "execution_count": 82,
   "metadata": {},
   "outputs": [
    {
     "data": {
      "image/png": "[encoded data removed]",
      "text/plain": [
       "<Figure size 1440x720 with 1 Axes>"
      ]
     },
     "metadata": {
      "needs_background": "light"
     },
     "output_type": "display_data"
    }
   ],
   "source": [
    "df_2015.groupby('genres').popularity.mean().plot(kind='barh', figsize=(20,10));\n",
    "plt.title('Movie poularity by Genres in 2015');\n",
    "plt.xlabel('Popularity');"
   ]
  },
  {
   "cell_type": "markdown",
   "metadata": {},
   "source": [
    "*This diagram shows western genre is the most popular genre in 2011*"
   ]
  },
  {
   "cell_type": "markdown",
   "metadata": {},
   "source": [
    "# Plots 2  Explanation\n",
    "\n",
    "In 2014, War is the most popular followed by Science Fiction movies"
   ]
  },
  {
   "cell_type": "code",
   "execution_count": 83,
   "metadata": {},
   "outputs": [
    {
     "data": {
      "text/plain": [
       "genres\n",
       "Action             1.068046\n",
       "Adventure          1.802795\n",
       "Animation          0.405092\n",
       "Comedy             0.929127\n",
       "Crime              0.819701\n",
       "Documentary        0.156738\n",
       "Drama              0.648660\n",
       "Family             1.182270\n",
       "Fantasy            1.806330\n",
       "History            0.153088\n",
       "Horror             0.455054\n",
       "Music              0.777507\n",
       "Mystery            0.804621\n",
       "Romance            0.706004\n",
       "Science Fiction    2.163033\n",
       "TV Movie           0.330129\n",
       "Thriller           1.231425\n",
       "War                2.166538\n",
       "Western            0.587442\n",
       "Name: popularity, dtype: float64"
      ]
     },
     "execution_count": 83,
     "metadata": {},
     "output_type": "execute_result"
    }
   ],
   "source": [
    "df_2014.groupby('genres').popularity.mean()"
   ]
  },
  {
   "cell_type": "code",
   "execution_count": 85,
   "metadata": {},
   "outputs": [
    {
     "data": {
      "image/png": "[encoded data removed]",
      "text/plain": [
       "<Figure size 1440x720 with 1 Axes>"
      ]
     },
     "metadata": {
      "needs_background": "light"
     },
     "output_type": "display_data"
    }
   ],
   "source": [
    "df_2014.groupby('genres').popularity.mean().plot(kind='barh', figsize=(20,10));\n",
    "plt.title('Movie poularity by Genres in 2014');\n",
    "plt.xlabel('popularityy');"
   ]
  },
  {
   "cell_type": "markdown",
   "metadata": {},
   "source": [
    "*This diagram shows sci-fi and war are the most popular genre in 2014*"
   ]
  },
  {
   "cell_type": "markdown",
   "metadata": {},
   "source": [
    "# Plots 3  Explanation\n",
    "\n",
    "In 2013, Fantasy is the most popular followed by Western movies"
   ]
  },
  {
   "cell_type": "code",
   "execution_count": 86,
   "metadata": {},
   "outputs": [
    {
     "data": {
      "text/plain": [
       "genres\n",
       "Action             0.799481\n",
       "Adventure          1.031500\n",
       "Animation          0.379139\n",
       "Comedy             0.490795\n",
       "Crime              1.060842\n",
       "Documentary        0.171169\n",
       "Drama              0.534686\n",
       "Family             0.860362\n",
       "Fantasy            1.401177\n",
       "History            1.084965\n",
       "Horror             0.385759\n",
       "Music              0.354207\n",
       "Mystery            0.623045\n",
       "Romance            0.634857\n",
       "Science Fiction    0.956008\n",
       "TV Movie           0.304425\n",
       "Thriller           0.700348\n",
       "War                0.828059\n",
       "Western            1.214510\n",
       "Name: popularity, dtype: float64"
      ]
     },
     "execution_count": 86,
     "metadata": {},
     "output_type": "execute_result"
    }
   ],
   "source": [
    "df_2013.groupby('genres').popularity.mean()"
   ]
  },
  {
   "cell_type": "code",
   "execution_count": 88,
   "metadata": {},
   "outputs": [
    {
     "data": {
      "image/png": "[encoded data removed]",
      "text/plain": [
       "<Figure size 1440x720 with 1 Axes>"
      ]
     },
     "metadata": {
      "needs_background": "light"
     },
     "output_type": "display_data"
    }
   ],
   "source": [
    "df_2013.groupby('genres').popularity.mean().plot(kind='barh', figsize=(20,10));\n",
    "plt.title('Movie poularity by Genres in 2013');\n",
    "plt.xlabel('populaarity');"
   ]
  },
  {
   "cell_type": "markdown",
   "metadata": {},
   "source": [
    "*this diagram shows fantasy is the most popular genre in 2013*"
   ]
  },
  {
   "cell_type": "markdown",
   "metadata": {},
   "source": [
    "# Plots 4  Explanation\n",
    "\n",
    "In 2012, Western is the most popular followed by Adventure movies"
   ]
  },
  {
   "cell_type": "code",
   "execution_count": 89,
   "metadata": {},
   "outputs": [
    {
     "data": {
      "text/plain": [
       "genres\n",
       "Action             1.495993\n",
       "Adventure          1.600523\n",
       "Animation          0.647892\n",
       "Comedy             0.495726\n",
       "Crime              0.663345\n",
       "Documentary        0.164094\n",
       "Drama              0.428109\n",
       "Family             0.699039\n",
       "Fantasy            1.180962\n",
       "Foreign            0.113121\n",
       "History            0.646214\n",
       "Horror             0.467373\n",
       "Music              0.157961\n",
       "Mystery            0.805412\n",
       "Romance            0.722647\n",
       "Science Fiction    0.828419\n",
       "TV Movie           0.192067\n",
       "Thriller           0.723726\n",
       "War                0.663056\n",
       "Western            1.732778\n",
       "Name: popularity, dtype: float64"
      ]
     },
     "execution_count": 89,
     "metadata": {},
     "output_type": "execute_result"
    }
   ],
   "source": [
    "df_2012.groupby('genres').popularity.mean()"
   ]
  },
  {
   "cell_type": "code",
   "execution_count": 94,
   "metadata": {},
   "outputs": [
    {
     "data": {
      "image/png": "[encoded data removed]",
      "text/plain": [
       "<Figure size 1440x720 with 1 Axes>"
      ]
     },
     "metadata": {
      "needs_background": "light"
     },
     "output_type": "display_data"
    }
   ],
   "source": [
    "df_2012.groupby('genres').popularity.mean().plot(kind='barh', figsize=(20,10));\n",
    "plt.xlabel('popularity')\n",
    "plt.title('Movie poularity by Genres in 2012');"
   ]
  },
  {
   "cell_type": "markdown",
   "metadata": {},
   "source": [
    "*This diagram shows western genre is the most popular genre in 2011*"
   ]
  },
  {
   "cell_type": "markdown",
   "metadata": {},
   "source": [
    "# Plots 5  Explanation\n",
    "\n",
    "In 2011, Crime is the most popular followed by Fantasy movies"
   ]
  },
  {
   "cell_type": "code",
   "execution_count": 91,
   "metadata": {},
   "outputs": [
    {
     "data": {
      "text/plain": [
       "genres\n",
       "Action             0.620633\n",
       "Adventure          0.823690\n",
       "Animation          0.582999\n",
       "Comedy             0.802459\n",
       "Crime              1.390045\n",
       "Documentary        0.219605\n",
       "Drama              0.568966\n",
       "Family             0.726181\n",
       "Fantasy            1.117315\n",
       "Foreign            0.140363\n",
       "History            0.367769\n",
       "Horror             0.679222\n",
       "Music              0.292382\n",
       "Mystery            0.813427\n",
       "Romance            0.647797\n",
       "Science Fiction    1.099859\n",
       "TV Movie           0.589166\n",
       "Thriller           0.568715\n",
       "War                0.484429\n",
       "Western            1.014146\n",
       "Name: popularity, dtype: float64"
      ]
     },
     "execution_count": 91,
     "metadata": {},
     "output_type": "execute_result"
    }
   ],
   "source": [
    "df_2011.groupby('genres').popularity.mean()"
   ]
  },
  {
   "cell_type": "code",
   "execution_count": 93,
   "metadata": {},
   "outputs": [
    {
     "data": {
      "image/png": "[encoded data removed]",
      "text/plain": [
       "<Figure size 1440x720 with 1 Axes>"
      ]
     },
     "metadata": {
      "needs_background": "light"
     },
     "output_type": "display_data"
    }
   ],
   "source": [
    "df_2011.groupby('genres').popularity.mean().plot(kind='barh', figsize=(20,10));\n",
    "plt.title('Movie poularity by Genres in 2011');\n",
    "plt.xlabel('popularity');"
   ]
  },
  {
   "cell_type": "markdown",
   "metadata": {},
   "source": [
    "*This diagram shows the most popular genre of movie, it shows that Crime is the moost popular genre*"
   ]
  },
  {
   "cell_type": "markdown",
   "metadata": {},
   "source": [
    "<a id='eda'></a>\n",
    "## Findings \n",
    "\n",
    "With a focus on the last 5 years\n",
    "\n",
    "In 2015 - Western Genre was most popular\n",
    "\n",
    "In 2014 - War and Science Fiction were the most popular\n",
    "\n",
    "In 2013 - Fantasy was the most popular\n",
    "\n",
    "In 2012 - Western was the most popular\n",
    "\n",
    "In 2011 - Crime genre was the most popular\n"
   ]
  },
  {
   "cell_type": "markdown",
   "metadata": {},
   "source": [
    "<a id='conclusions'></a>\n",
    "## Conclusions\n",
    "\n",
    "The following work can be summarized as follows:\n",
    "\n",
    "1. Number of cast seems to be the most important influencer of how much a movie makes\n",
    "2. Western movies seem the most popular movies in the last 5 years\n",
    "\n",
    "> **Tip**: Once you are satisfied with your work, you should save a copy of the report in HTML or PDF form via the **File** > **Download as** submenu. Before exporting your report, check over it to make sure that the flow of the report is complete. You should probably remove all of the \"Tip\" quotes like this one so that the presentation is as tidy as possible. Congratulations!"
   ]
  },
  {
   "cell_type": "markdown",
   "metadata": {},
   "source": [
    "## Limitation\n",
    "- There was measurement change for popularity as well as we cleaned up more than 40% of data due to missing values.\n",
    "- This analysis is done using imdb movies sample and considered successful movies only by profit which might not be 100% or error free, Also we were not provided with a currency unit so we assumed it to be in US Dollar and the dataset might be outdated or has incomplete critical data like rows with missing values which might bias our analysis and make it wrong."
   ]
  },
  {
   "cell_type": "code",
   "execution_count": null,
   "metadata": {},
   "outputs": [],
   "source": []
  }
 ],
 "metadata": {
  "kernelspec": {
   "display_name": "Python 3 (ipykernel)",
   "language": "python",
   "name": "python3"
  },
  "language_info": {
   "codemirror_mode": {
    "name": "ipython",
    "version": 3
   },
   "file_extension": ".py",
   "mimetype": "text/x-python",
   "name": "python",
   "nbconvert_exporter": "python",
   "pygments_lexer": "ipython3",
   "version": "3.9.12"
  }
 },
 "nbformat": 4,
 "nbformat_minor": 2
}
